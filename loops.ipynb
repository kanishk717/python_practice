{
 "cells": [
  {
   "cell_type": "code",
   "execution_count": 5,
   "metadata": {},
   "outputs": [],
   "source": [
    "s = \"Hi There\""
   ]
  },
  {
   "cell_type": "code",
   "execution_count": 6,
   "metadata": {},
   "outputs": [
    {
     "name": "stdout",
     "output_type": "stream",
     "text": [
      "H\n",
      "i\n",
      " \n",
      "T\n",
      "h\n",
      "e\n",
      "r\n",
      "e\n"
     ]
    }
   ],
   "source": [
    "for i in s:\n",
    "    print(i)"
   ]
  },
  {
   "cell_type": "code",
   "execution_count": 12,
   "metadata": {},
   "outputs": [],
   "source": [
    "list1 =[2,4,6,8,10]\n",
    "for num in list1:\n",
    "    if num % 2 == 0:\n",
    "        print(num)  \n",
    "    else:\n",
    "        break"
   ]
  },
  {
   "cell_type": "code",
   "execution_count": 13,
   "metadata": {},
   "outputs": [
    {
     "name": "stdout",
     "output_type": "stream",
     "text": [
      "30\n"
     ]
    }
   ],
   "source": [
    "list_sum = 0 \n",
    "list1=[1,2,3,4,5,6,7,8,9,10]\n",
    "for num in list1:\n",
    "    list_sum = list_sum + num\n",
    "\n",
    "print(list_sum)"
   ]
  },
  {
   "cell_type": "code",
   "execution_count": 58,
   "metadata": {},
   "outputs": [
    {
     "name": "stdout",
     "output_type": "stream",
     "text": [
      "h\n"
     ]
    }
   ],
   "source": [
    "s = \"hi there\"\n",
    "\n",
    "for i in s:\n",
    "    if i=='r':\n",
    "        print(\"Find\")\n",
    "        \n",
    "    else:\n",
    "        print(i)\n",
    "        break\n",
    "        \n",
    "    "
   ]
  },
  {
   "cell_type": "code",
   "execution_count": null,
   "metadata": {},
   "outputs": [],
   "source": [
    "L = [1,2,3]"
   ]
  },
  {
   "cell_type": "code",
   "execution_count": 11,
   "metadata": {},
   "outputs": [
    {
     "name": "stdout",
     "output_type": "stream",
     "text": [
      "55\n"
     ]
    }
   ],
   "source": [
    "list_sum = 0 \n",
    "list1 = [1,2,3,4,5,6,7,8,9,10]\n",
    "for num in list1:\n",
    "    list_sum += num\n",
    "\n",
    "print(list_sum)"
   ]
  },
  {
   "cell_type": "code",
   "execution_count": 1,
   "metadata": {},
   "outputs": [
    {
     "name": "stdout",
     "output_type": "stream",
     "text": [
      "0\n",
      "1\n",
      "2\n",
      "3\n",
      "4\n"
     ]
    }
   ],
   "source": [
    "i = 0 \n",
    "while i<5:\n",
    "    print(i)\n",
    "    i =i+1"
   ]
  },
  {
   "cell_type": "code",
   "execution_count": 8,
   "metadata": {},
   "outputs": [
    {
     "name": "stdout",
     "output_type": "stream",
     "text": [
      "h\n",
      "i\n",
      " \n",
      "t\n",
      "h\n",
      "e\n",
      "r\n",
      "e\n"
     ]
    }
   ],
   "source": [
    "s = \"hi there\"\n",
    "for i in s:\n",
    "    print(i)"
   ]
  },
  {
   "cell_type": "code",
   "execution_count": 17,
   "metadata": {},
   "outputs": [
    {
     "name": "stdout",
     "output_type": "stream",
     "text": [
      "h\n",
      "i\n",
      " \n",
      "t\n",
      "h\n",
      "e\n",
      "r\n",
      "e\n"
     ]
    }
   ],
   "source": [
    "s = \"hi there\"\n",
    "i =0\n",
    "while i<len(s):\n",
    "    print(s[i])\n",
    "    i += 1\n",
    "    "
   ]
  },
  {
   "cell_type": "code",
   "execution_count": 18,
   "metadata": {},
   "outputs": [
    {
     "name": "stdout",
     "output_type": "stream",
     "text": [
      "1\n",
      "hi\n",
      "2\n",
      "7\n"
     ]
    }
   ],
   "source": [
    "l = [1,'hi',2,7]\n",
    "i =0\n",
    "while i<len(l):\n",
    "    print(l[i])\n",
    "    i +=1"
   ]
  },
  {
   "cell_type": "code",
   "execution_count": 19,
   "metadata": {},
   "outputs": [
    {
     "name": "stdout",
     "output_type": "stream",
     "text": [
      "1\n",
      "hi\n",
      "2\n",
      "7\n"
     ]
    }
   ],
   "source": [
    "l =[1,'hi',2,7]\n",
    "for i in l:\n",
    "    print(i)"
   ]
  },
  {
   "cell_type": "code",
   "execution_count": 24,
   "metadata": {},
   "outputs": [
    {
     "name": "stdout",
     "output_type": "stream",
     "text": [
      "1\n",
      "hi\n",
      "2\n",
      "7\n"
     ]
    }
   ],
   "source": [
    "l =[1,'hi',2,7]\n",
    "for i in range(len(l)):\n",
    "    print(l[i])"
   ]
  },
  {
   "cell_type": "code",
   "execution_count": 3,
   "metadata": {},
   "outputs": [
    {
     "name": "stdout",
     "output_type": "stream",
     "text": [
      "1\n"
     ]
    }
   ],
   "source": [
    "a =153\n",
    "b = a//100\n",
    "print(b)"
   ]
  },
  {
   "cell_type": "code",
   "execution_count": 12,
   "metadata": {},
   "outputs": [
    {
     "name": "stdout",
     "output_type": "stream",
     "text": [
      "0\n",
      "1\n",
      "2\n",
      "3\n",
      "4\n",
      "5\n",
      "6\n",
      "7\n",
      "8\n",
      "9\n",
      "153\n",
      "370\n",
      "371\n",
      "407\n"
     ]
    }
   ],
   "source": [
    "for i in range(1001):\n",
    "    num = i\n",
    "    result =0\n",
    "    n = len(str(i))\n",
    "    while(i!=0):\n",
    "        digit = i%10\n",
    "        result = result+digit**n\n",
    "        i =i//10\n",
    "    if num==result:\n",
    "        print(result)"
   ]
  },
  {
   "cell_type": "code",
   "execution_count": 81,
   "metadata": {},
   "outputs": [
    {
     "name": "stdout",
     "output_type": "stream",
     "text": [
      "1\n",
      "12\n",
      "123\n",
      "1234\n"
     ]
    }
   ],
   "source": [
    "n = int(input(\"enter the number:\"))\n",
    "\n",
    "for i in range(1,n+1,):\n",
    "    \n",
    "    for j in range(1,i+1):\n",
    "        print(j,end=\"\")\n",
    "    print()    "
   ]
  },
  {
   "cell_type": "code",
   "execution_count": 34,
   "metadata": {},
   "outputs": [
    {
     "name": "stdout",
     "output_type": "stream",
     "text": [
      "*    \n",
      "**   \n",
      "* *  \n",
      "*  * \n",
      "*****\n"
     ]
    }
   ],
   "source": [
    "n = int(input(\"enter the number:\"))\n",
    "for row in range(n):\n",
    "    for col in range(n):\n",
    "        if col==0 or row == (n-1) or row==col:\n",
    "            print(\"*\",end=\"\")\n",
    "        else:\n",
    "            print(end=\" \")\n",
    "    print()        "
   ]
  },
  {
   "cell_type": "code",
   "execution_count": 16,
   "metadata": {},
   "outputs": [
    {
     "name": "stdout",
     "output_type": "stream",
     "text": [
      "s \n",
      "s i \n",
      "s i m \n",
      "s i m p \n",
      "s i m p l \n",
      "s i m p l e \n"
     ]
    }
   ],
   "source": [
    "n = input()\n",
    "for i in range(0,len(n)):\n",
    "    for j in range(0,i+1):\n",
    "        print(n[j],end=\" \")\n",
    "    print()"
   ]
  },
  {
   "cell_type": "code",
   "execution_count": 15,
   "metadata": {},
   "outputs": [
    {
     "name": "stdout",
     "output_type": "stream",
     "text": [
      "factorial of 9 is 362880\n"
     ]
    }
   ],
   "source": [
    "import math\n",
    "n = int(input(\"Enter the number:\"))\n",
    "result = math.factorial(n)\n",
    "print(\"factorial of\",n,\"is\",result)\n"
   ]
  },
  {
   "cell_type": "code",
   "execution_count": 147,
   "metadata": {},
   "outputs": [
    {
     "name": "stdout",
     "output_type": "stream",
     "text": [
      "*****\n",
      " *  *\n",
      "  * *\n",
      "   **\n",
      "    *\n"
     ]
    }
   ],
   "source": [
    "n = int(input(\"Enter the Number:\"))\n",
    "for row in range(n):\n",
    "    for col in range(n):\n",
    "        if row==0 or row==col or col==4:\n",
    "            print(\"*\",end='')\n",
    "        else:\n",
    "            print(end=\" \") \n",
    "    print()           "
   ]
  },
  {
   "cell_type": "code",
   "execution_count": 19,
   "metadata": {},
   "outputs": [
    {
     "name": "stdout",
     "output_type": "stream",
     "text": [
      "****\n",
      "* * \n",
      "* * \n",
      "****\n"
     ]
    }
   ],
   "source": [
    "n = int(input())\n",
    "for row in range(n):\n",
    "    for col in range(n):\n",
    "        if row ==0 or col==2 or row==(n-1) or col==0 :\n",
    "            print(\"*\",end='')\n",
    "        else:\n",
    "            print(\"\",end=' ')\n",
    "    print() "
   ]
  },
  {
   "cell_type": "code",
   "execution_count": null,
   "metadata": {},
   "outputs": [],
   "source": []
  },
  {
   "cell_type": "code",
   "execution_count": 82,
   "metadata": {},
   "outputs": [
    {
     "name": "stdout",
     "output_type": "stream",
     "text": [
      "1 \n",
      "2 3 \n",
      "4 5 6 \n",
      "7 8 9 10 \n"
     ]
    }
   ],
   "source": [
    "n = int(input(\"Enter the number:\"))\n",
    "num = 1\n",
    "for row in range(1,n+1):\n",
    "    for col in range(1,row+1):\n",
    "        print(num,end=\" \")\n",
    "        num = num+1\n",
    "    print()\n"
   ]
  },
  {
   "cell_type": "code",
   "execution_count": 6,
   "metadata": {},
   "outputs": [
    {
     "name": "stdout",
     "output_type": "stream",
     "text": [
      "0\n",
      "1\n",
      "1\n",
      "2\n",
      "3\n",
      "5\n",
      "8\n",
      "13\n",
      "21\n",
      "34\n",
      "55\n",
      "89\n"
     ]
    }
   ],
   "source": [
    "n = int(input(\"Enter the nuber:\"))\n",
    "first = 0\n",
    "second = 1\n",
    "print(first)\n",
    "print(second) \n",
    "for i in range(n):\n",
    "    temp = first\n",
    "    first = second\n",
    "    second = temp+first\n",
    "    print(second)\n"
   ]
  },
  {
   "cell_type": "code",
   "execution_count": 3,
   "metadata": {},
   "outputs": [
    {
     "name": "stdout",
     "output_type": "stream",
     "text": [
      "[10, 2.7, 'A', 'hi']\n"
     ]
    }
   ],
   "source": [
    "l =[10,2.7,'A','hi']\n",
    "print(l[:4])"
   ]
  },
  {
   "cell_type": "code",
   "execution_count": 1,
   "metadata": {},
   "outputs": [
    {
     "name": "stdout",
     "output_type": "stream",
     "text": [
      "Result of adding 5 and 6 is: 11\n"
     ]
    }
   ],
   "source": [
    "def add(a,b):\n",
    "    add_num = a+b\n",
    "    return add_num\n",
    "n1 = int(input(\"Enter the n1:\"))\n",
    "n2 = int(input(\"Enter the n2:\"))\n",
    "total = add(n1,n2)\n",
    "print(\"Result of adding\",n1,\"and\",n2,\"is:\",total)"
   ]
  },
  {
   "cell_type": "code",
   "execution_count": 27,
   "metadata": {},
   "outputs": [
    {
     "name": "stdout",
     "output_type": "stream",
     "text": [
      "1119 is not a prime number\n"
     ]
    }
   ],
   "source": [
    "num = int(input(\"Enter the positive number to check its prime or not:\"))\n",
    "\n",
    "\n",
    "\n",
    "if num>1:\n",
    "    for i in range(2,num):\n",
    "        if num%i ==0:\n",
    "            print(num,\"is not a prime number\")\n",
    "            break\n",
    "    else:\n",
    "        print(num,'is a prime number')\n",
    "      \n",
    "else:\n",
    "    print(num,\"is not a prime number\")              "
   ]
  },
  {
   "cell_type": "code",
   "execution_count": 53,
   "metadata": {},
   "outputs": [
    {
     "name": "stdout",
     "output_type": "stream",
     "text": [
      "11\n"
     ]
    }
   ],
   "source": [
    "def is_prime(n):\n",
    "    if n <= 1:\n",
    "        return False\n",
    "    if n <= 3:\n",
    "        return True\n",
    "    if n % 2 == 0 or n % 3 == 0:\n",
    "        return False\n",
    "    i = 5\n",
    "    while i * i <= n:\n",
    "        if n % i == 0 or n % (i + 2) == 0:\n",
    "            return False\n",
    "        i += 6\n",
    "    return True\n",
    "\n",
    "def next_prime(n):\n",
    "    if n <= 1:\n",
    "        return 2\n",
    "    prime = n\n",
    "    found = False\n",
    "    while not found:\n",
    "        prime += 1\n",
    "        if is_prime(prime):\n",
    "            found = True\n",
    "    return prime\n",
    "\n",
    "# Example usage\n",
    "N = int(input())\n",
    "print(next_prime(N))  # Output should be 5\n"
   ]
  },
  {
   "cell_type": "code",
   "execution_count": 2,
   "metadata": {},
   "outputs": [
    {
     "name": "stdout",
     "output_type": "stream",
     "text": [
      "['k', 'b', 'k', 'h', 's', 'i', 'n', 'a', 'k']\n"
     ]
    }
   ],
   "source": [
    "a = list(input())\n",
    "b = []\n",
    "for i in range(1,len(a)+1):\n",
    "    if a[-i]!= ' ':\n",
    "      b.append(a[-i])\n",
    "print(b)\n",
    "\n",
    "\n"
   ]
  },
  {
   "cell_type": "code",
   "execution_count": 20,
   "metadata": {},
   "outputs": [
    {
     "name": "stdout",
     "output_type": "stream",
     "text": [
      "'b'\n"
     ]
    }
   ],
   "source": [
    "def find_difference(string,transformed_string):\n",
    "    sorted_difference = ''\n",
    "    for i in transformed_string:\n",
    "        if i not in string:\n",
    "            sorted_difference += i\n",
    "           \n",
    "    result = ','.join(f\"'{item}'\"for item in sorted_difference)\n",
    "    return result\n",
    "\n",
    "\n",
    "\n",
    "\n",
    "string = input()\n",
    "transformed_string = input()\n",
    "print(find_difference(string,transformed_string))\n"
   ]
  },
  {
   "cell_type": "code",
   "execution_count": 1,
   "metadata": {},
   "outputs": [
    {
     "name": "stdout",
     "output_type": "stream",
     "text": [
      "a4b3c3\n"
     ]
    }
   ],
   "source": [
    "from collections import Counter\n",
    "\n",
    "def compress_string(s):\n",
    "    if not s:\n",
    "        return \"\"\n",
    "\n",
    "    # Initialize variables\n",
    "    result = []\n",
    "    count = 1\n",
    "    current_char = s[0]\n",
    "\n",
    "    # Iterate over the string starting from the second character\n",
    "    for char in s[1:]:\n",
    "        if char == current_char:\n",
    "            count += 1\n",
    "        else:\n",
    "            # Append the current character and its count to the result\n",
    "            result.append(f\"{current_char}{count}\")\n",
    "            # Reset the current character and count\n",
    "            current_char = char\n",
    "            count = 1\n",
    "\n",
    "    # Append the last character and its count\n",
    "    result.append(f\"{current_char}{count}\")\n",
    "\n",
    "    # Join the result list into a single string\n",
    "    return ''.join(result)\n",
    "s = \"aaaabbbccc\"\n",
    "compressed_s = compress_string(s)\n",
    "\n",
    "print(compressed_s)  \n"
   ]
  },
  {
   "cell_type": "code",
   "execution_count": null,
   "metadata": {},
   "outputs": [],
   "source": [
    "def insertion_sort(bucket):\n",
    "    for i in range(1, len(bucket)):\n",
    "        key = bucket[i]\n",
    "        j = i - 1\n",
    "        while j >= 0 and bucket[j] > key:\n",
    "            bucket[j + 1] = bucket[j]\n",
    "            j -= 1\n",
    "        bucket[j + 1] = key\n",
    "\n",
    "def bucket_sort(arr):\n",
    "    n = len(arr)\n",
    "    buckets = [[] for _ in range(n)]\n",
    "\n",
    "    # Put array elements in different buckets\n",
    "    for num in arr:\n",
    "        bi = int(n * num)\n",
    "        buckets[bi].append(num)\n",
    "\n",
    "    # Sort individual buckets using insertion sort\n",
    "    for bucket in buckets:\n",
    "        insertion_sort(bucket)\n",
    "\n",
    "    # Concatenate all buckets into arr[]\n",
    "    index = 0\n",
    "    for bucket in buckets:\n",
    "        for num in bucket:\n",
    "            arr[index] = num\n",
    "            index += 1\n",
    "\n",
    "arr = [0.78, 0.17, 0.39, 0.26, 0.72, 0.94, 0.21, 0.12, 0.23, 0.68]\n",
    "bucket_sort(arr)\n",
    "print(\"Sorted array is:\")\n",
    "print(\" \".join(map(str, arr)))"
   ]
  },
  {
   "cell_type": "code",
   "execution_count": 35,
   "metadata": {},
   "outputs": [
    {
     "name": "stdout",
     "output_type": "stream",
     "text": [
      "1,2,3,4,5\n"
     ]
    },
    {
     "ename": "",
     "evalue": "",
     "output_type": "error",
     "traceback": [
      "\u001b[1;31mThe Kernel crashed while executing code in the current cell or a previous cell. \n",
      "\u001b[1;31mPlease review the code in the cell(s) to identify a possible cause of the failure. \n",
      "\u001b[1;31mClick <a href='https://aka.ms/vscodeJupyterKernelCrash'>here</a> for more info. \n",
      "\u001b[1;31mView Jupyter <a href='command:jupyter.viewOutput'>log</a> for further details."
     ]
    }
   ],
   "source": [
    "# find single number in an array\n",
    "def single_num(arr):\n",
    "    a = Counter(arr)\n",
    "    value = 1\n",
    "    key  = []\n",
    "    for k, v in a.items():\n",
    "        if v == value:\n",
    "            key.append(k)\n",
    "    s = [str(i) for i in key]        \n",
    "    res = str(','.join(s))\n",
    "    \n",
    "            \n",
    "    return res\n",
    "\n",
    "\n",
    "    \n",
    "arr = [1,2,3,4,5]\n",
    "print(single_num(arr))"
   ]
  },
  {
   "cell_type": "code",
   "execution_count": 23,
   "metadata": {},
   "outputs": [
    {
     "name": "stdout",
     "output_type": "stream",
     "text": [
      "5\n"
     ]
    }
   ],
   "source": [
    "#bubble sort\n",
    "def bubble_sort(nums):\n",
    "    n = len(nums)\n",
    "    for i in range(n):\n",
    "        for j in range(0,n-i-1):\n",
    "            if nums[j]>nums[j+1]:\n",
    "                nums[j],nums[j+1] = nums[j+1],nums[j]\n",
    "    return  nums\n",
    "def difference(nums):\n",
    "    a = sorted_arr\n",
    "    b = 0\n",
    "    arr = [int(digit) for digit in nums ]\n",
    "    for i in range(len(nums)):\n",
    "\n",
    "       if a[i]!=arr[i]:\n",
    "           b+=1\n",
    "    return b       \n",
    "nums = list(input())\n",
    "arr = [int(digit) for digit in nums ]\n",
    "sorted_arr = bubble_sort(arr)\n",
    "diff = difference(nums)\n",
    "print(diff)\n",
    "\n"
   ]
  },
  {
   "cell_type": "code",
   "execution_count": 1,
   "metadata": {},
   "outputs": [
    {
     "name": "stdout",
     "output_type": "stream",
     "text": [
      "22\n"
     ]
    }
   ],
   "source": [
    "def findTotal(s):\n",
    "    unique_substring = set(s)\n",
    "    n = len(s)\n",
    "    for i in range(n):\n",
    "        for j in range(i, n):\n",
    "            unique_substring.add(s[i:j+1])\n",
    "            # unique_substring.discard(\"\")  # This line is commented out\n",
    "    return len(unique_substring)\n",
    "\n",
    "s = input().strip('\\n')\n",
    "result = findTotal(s)\n",
    "print(result)\n",
    "\n"
   ]
  },
  {
   "cell_type": "code",
   "execution_count": 24,
   "metadata": {},
   "outputs": [
    {
     "name": "stdout",
     "output_type": "stream",
     "text": [
      "kxnxshk \n"
     ]
    }
   ],
   "source": [
    "def replace_x(word):\n",
    "    vowels = \"aeiouAEIOU\"\n",
    "    result = ''\n",
    "    for char in word:\n",
    "        if char in vowels:\n",
    "            result += \"x\"\n",
    "        else:\n",
    "            result += char\n",
    "\n",
    "\n",
    "    return result        \n",
    "\n",
    "word = 'kanishk '\n",
    "result = replace_x(word)\n",
    "print(result)            \n",
    "                "
   ]
  },
  {
   "cell_type": "code",
   "execution_count": 2,
   "metadata": {},
   "outputs": [
    {
     "name": "stdout",
     "output_type": "stream",
     "text": [
      "22\n"
     ]
    }
   ],
   "source": [
    "def third_max(nums):\n",
    "    distinct_nums = list(set(nums))\n",
    "    distinct_nums.sort(reverse=True)\n",
    "    if len(distinct_nums)>=6:\n",
    "        return distinct_nums[-1]\n",
    "    else:\n",
    "        return distinct_nums[0]\n",
    "    \n",
    "\n",
    "nums =[89,45,67,34,22,56,72]\n",
    "result = third_max(nums)\n",
    "print(result)    \n"
   ]
  },
  {
   "cell_type": "code",
   "execution_count": 23,
   "metadata": {},
   "outputs": [
    {
     "name": "stdout",
     "output_type": "stream",
     "text": [
      "[2, 4, 6]\n"
     ]
    }
   ],
   "source": [
    "\n",
    "def check_even_list(num_list):\n",
    "    # Go through each number\n",
    "    for number in num_list:\n",
    "        # Once we get a \"hit\" on an even number, we return True\n",
    "        if number % 2 == 0: \n",
    "           result.append(number)\n",
    "          \n",
    "           \n",
    "           \n",
    "            \n",
    "            \n",
    "             \n",
    "        # Otherwise we don't do anything\n",
    "        else:\n",
    "            pass\n",
    "num = [1,2,3,4,5,6]\n",
    "result=[]\n",
    "check_even_list(num)\n",
    "print(result)\n",
    "\n"
   ]
  },
  {
   "cell_type": "code",
   "execution_count": 10,
   "metadata": {},
   "outputs": [
    {
     "name": "stdout",
     "output_type": "stream",
     "text": [
      "[2, 4, 6, 8, 10]\n"
     ]
    }
   ],
   "source": [
    "# Define a function that doubles a number\n",
    "def double(n):\n",
    "    return n * 2\n",
    "\n",
    "# Create a list of numbers\n",
    "numbers = [1, 2, 3, 4, 5]\n",
    "\n",
    "# Use map to apply the double function to each item in the numbers list\n",
    "doubled_numbers = map(double, numbers)\n",
    "\n",
    "# Convert the map object to a list and print it\n",
    "print(list(doubled_numbers))\n"
   ]
  },
  {
   "cell_type": "code",
   "execution_count": 9,
   "metadata": {},
   "outputs": [
    {
     "data": {
      "text/plain": [
       "10000"
      ]
     },
     "execution_count": 9,
     "metadata": {},
     "output_type": "execute_result"
    }
   ],
   "source": [
    "def myfunc(a,b):\n",
    "    return sum((a,b))**2\n",
    "\n",
    "myfunc(40,60)"
   ]
  },
  {
   "cell_type": "code",
   "execution_count": 15,
   "metadata": {},
   "outputs": [
    {
     "data": {
      "text/plain": [
       "240"
      ]
     },
     "execution_count": 15,
     "metadata": {},
     "output_type": "execute_result"
    }
   ],
   "source": [
    "def myfunc(*args):\n",
    "    return sum(args)*2\n",
    "\n",
    "myfunc(40,60,20)\n"
   ]
  },
  {
   "cell_type": "code",
   "execution_count": 29,
   "metadata": {},
   "outputs": [
    {
     "name": "stdout",
     "output_type": "stream",
     "text": [
      "Positional Argument 1: 1\n",
      "Positional Argument 2: 2\n",
      "Keyword Argument 1: 3\n",
      "Keyword Argument 2: 4\n",
      "Arbitrary Positional Arguments: (5, 6)\n",
      "Arbitrary Keyword Arguments: {'a': 'hi', 'name': 'Alice', 'age': 10}\n"
     ]
    }
   ],
   "source": [
    "\n",
    "def show_arguments(pos1, pos2, kw1=4, kw2='default', *args, **kwargs):\n",
    "    print(f\"Positional Argument 1: {pos1}\")\n",
    "    print(f\"Positional Argument 2: {pos2}\")\n",
    "    print(f\"Keyword Argument 1: {kw1}\")\n",
    "    print(f\"Keyword Argument 2: {kw2}\")\n",
    "    print(f\"Arbitrary Positional Arguments: {args}\")\n",
    "    print(f\"Arbitrary Keyword Arguments: {kwargs}\")\n",
    "\n",
    "# Calling the function with different types of arguments\n",
    "show_arguments(1, 2,3, 4, 5, 6, a='hi', name=\"Alice\", age=10)\n",
    "\n"
   ]
  },
  {
   "cell_type": "code",
   "execution_count": 1,
   "metadata": {},
   "outputs": [
    {
     "data": {
      "text/plain": [
       "[32.0, 72.5, 104.0, 212.0]"
      ]
     },
     "execution_count": 1,
     "metadata": {},
     "output_type": "execute_result"
    }
   ],
   "source": [
    "def fahrenheit(celsius):\n",
    "    return (9/5)*celsius + 32\n",
    "    \n",
    "temps = [0, 22.5, 40, 100]\n",
    "\n",
    "F_temps = map(fahrenheit, temps)\n",
    "\n",
    "#Show\n",
    "list(F_temps)"
   ]
  },
  {
   "cell_type": "code",
   "execution_count": 3,
   "metadata": {},
   "outputs": [
    {
     "data": {
      "text/plain": [
       "47"
      ]
     },
     "execution_count": 3,
     "metadata": {},
     "output_type": "execute_result"
    }
   ],
   "source": [
    "from functools import reduce\n",
    "lst =[47,11,42,13]\n",
    "max_find = lambda a,b: a if (a > b) else b\n",
    "\n",
    "reduce(max_find,lst)"
   ]
  },
  {
   "cell_type": "code",
   "execution_count": 2,
   "metadata": {},
   "outputs": [
    {
     "data": {
      "text/plain": [
       "[(1, 4), (2, 5)]"
      ]
     },
     "execution_count": 2,
     "metadata": {},
     "output_type": "execute_result"
    }
   ],
   "source": [
    "d1 = {'a':1,'b':2}\n",
    "d2 = {'c':4,'d':5}\n",
    "\n",
    "list(zip(d1,d2))\n",
    "\n",
    "list(zip(d1.values(),d2.values()))"
   ]
  },
  {
   "cell_type": "code",
   "execution_count": 10,
   "metadata": {},
   "outputs": [
    {
     "data": {
      "text/plain": [
       "{'a': 4, 'b': 5}"
      ]
     },
     "execution_count": 10,
     "metadata": {},
     "output_type": "execute_result"
    }
   ],
   "source": [
    "d1 = {'a':1,'b':2}\n",
    "d2 = {'c':4,'d':5}\n",
    "\n",
    "def switcharoo(d1,d2):\n",
    "    dout = {}\n",
    "\n",
    "    for d1key,d2val in zip(d1,d2.values()):\n",
    "        dout[d1key] = d2val\n",
    "\n",
    "    return dout\n",
    "\n",
    "switcharoo(d1,d2)    \n",
    "    \n"
   ]
  },
  {
   "cell_type": "code",
   "execution_count": 34,
   "metadata": {},
   "outputs": [
    {
     "name": "stdout",
     "output_type": "stream",
     "text": [
      "{'a': 4, 'b': 5}\n"
     ]
    }
   ],
   "source": [
    "d1 = {'a':1,'b':2}\n",
    "d2 = {'c':4,'d':5}\n",
    "\n",
    "\n",
    "def switcharoo(**kwargs):\n",
    "    dout = {}\n",
    "    \n",
    "    for d1key,d2val in zip(d1,d2.values()):\n",
    "        dout[d1key] = d2val\n",
    "    \n",
    "    return dout\n",
    "din = (switcharoo(j=d1,n=d2))\n",
    "print(din)"
   ]
  },
  {
   "cell_type": "code",
   "execution_count": 9,
   "metadata": {},
   "outputs": [
    {
     "name": "stdout",
     "output_type": "stream",
     "text": [
      "None\n"
     ]
    }
   ],
   "source": [
    "nums = [2, 7, 11, 15]\n",
    "target = 11\n",
    "\n",
    "class Solution:\n",
    "    def twoSum(self, nums: list[int], target: int) -> list[int]:\n",
    "        tmp = [(num, idx) for idx, num in enumerate(nums)]\n",
    "        tmp.sort(key=lambda x: x[0])\n",
    "        \n",
    "        left, right = 0, len(tmp) - 1\n",
    "        \n",
    "        while left < right:\n",
    "            cur = tmp[right][0] + tmp[left][0]\n",
    "            if cur == target:\n",
    "                return [tmp[right][1], tmp[left][1]]\n",
    "            elif cur > target:\n",
    "                right -= 1\n",
    "            else:\n",
    "                left += 1\n",
    "\n",
    "# Example usage\n",
    "solution = Solution()\n",
    "result = solution.twoSum(nums, target)\n",
    "print(result)\n"
   ]
  },
  {
   "cell_type": "code",
   "execution_count": 45,
   "metadata": {},
   "outputs": [
    {
     "name": "stdout",
     "output_type": "stream",
     "text": [
      "[5, 4, 3, 2, 1]\n"
     ]
    }
   ],
   "source": [
    "def rev_num(nums):\n",
    "    replace_num = list(set(nums))\n",
    "    replace_num.sort(reverse=True)\n",
    "\n",
    "    return replace_num\n",
    "\n",
    "nums = [1,2,3,4,5]\n",
    "result = rev_num(nums)\n",
    "print(result)\n"
   ]
  },
  {
   "cell_type": "code",
   "execution_count": 46,
   "metadata": {},
   "outputs": [
    {
     "name": "stdout",
     "output_type": "stream",
     "text": [
      "12\n"
     ]
    }
   ],
   "source": [
    "newList = [12, 35, 9, 56, 24]\n",
    "temp = newList[0]\n",
    "print(temp)"
   ]
  },
  {
   "cell_type": "code",
   "execution_count": 42,
   "metadata": {},
   "outputs": [
    {
     "name": "stdout",
     "output_type": "stream",
     "text": [
      "[87, 24, 36, 55, 78, 42]\n"
     ]
    }
   ],
   "source": [
    "# swap first and last element in array\n",
    "def swaplist(newlist):\n",
    "    size = len(newlist)\n",
    "    temp = newlist[0]\n",
    "    newlist[0] = newlist[size-1]\n",
    "    newlist[size-1] = temp\n",
    "    return newlist\n",
    "newlist = [42,24,36,55,78,87]\n",
    "result = swaplist(newlist) \n",
    "print(newlist)   "
   ]
  },
  {
   "cell_type": "code",
   "execution_count": 80,
   "metadata": {},
   "outputs": [
    {
     "name": "stdout",
     "output_type": "stream",
     "text": [
      "length of first word: 5\n",
      "length of last word: 5\n"
     ]
    }
   ],
   "source": [
    "#Find length of words in an str\n",
    "class Solution:\n",
    "    def lengthOfLastWord(self, s):\n",
    "\n",
    "        arr = s.split(\" \")\n",
    "        \n",
    "        ans = arr[-1]\n",
    "        return len(ans)\n",
    "    def lengthOfFirstWord(self, f):\n",
    "\n",
    "        arr = f.split(\" \")\n",
    "        \n",
    "        ans1 = arr[0]\n",
    "        return len(ans1)\n",
    "        \n",
    "# Example usage\n",
    "a= input(\"Enter the text:\")\n",
    "solution = Solution()\n",
    "result = solution.lengthOfLastWord(a)\n",
    "result1 = solution.lengthOfFirstWord(a)\n",
    "print(\"length of first word:\",result1)\n",
    "print(\"length of last word:\",result)\n"
   ]
  },
  {
   "cell_type": "code",
   "execution_count": 6,
   "metadata": {},
   "outputs": [
    {
     "name": "stdout",
     "output_type": "stream",
     "text": [
      "Red Ford Mustang\n",
      "Blue Toyota Prius\n",
      "Green Volkswagen Golf\n"
     ]
    }
   ],
   "source": [
    "class Car:\n",
    "    def info(self,name,Brand,color):\n",
    "        self.name = name\n",
    "        self.Brand = Brand\n",
    "        self.color = color\n",
    "\n",
    "car_1 = Car()\n",
    "car_1.info(\"Ford\",\"Mustang\",\"Red\")\n",
    "print (car_1.color,car_1.name,car_1.Brand)\n",
    "\n",
    "car_2 = Car()\n",
    "car_2.info(\"Toyota\",\"Prius\",\"Blue\")\n",
    "print (car_2.color,car_2.name,car_2.Brand)\n",
    "\n",
    "car_3 = Car()\n",
    "car_3.info(\"Volkswagen\",\"Golf\",\"Green\")\n",
    "print (car_3.color,car_3.name,car_3.Brand)\n"
   ]
  },
  {
   "cell_type": "code",
   "execution_count": 8,
   "metadata": {},
   "outputs": [
    {
     "name": "stdout",
     "output_type": "stream",
     "text": [
      "6\n",
      "28\n",
      "496\n",
      "8128\n"
     ]
    }
   ],
   "source": [
    "lower = int(input(\"Enter the lower number:\"))\n",
    "upper = int(input(\"Enter the upper number:\"))\n",
    "for num in range(lower,upper+1):\n",
    "    result = 0\n",
    "    for i in range(1,num):\n",
    "        if (num%i)==0:\n",
    "            result = result +i\n",
    "    if num==result:\n",
    "        print(num)\n"
   ]
  },
  {
   "cell_type": "code",
   "execution_count": 38,
   "metadata": {},
   "outputs": [
    {
     "name": "stdout",
     "output_type": "stream",
     "text": [
      "Counter({'a': 4, 'b': 3, 'c': 2})\n",
      "0\n",
      "a\n",
      "Counter({'a': 4, 'b': 3, 'c': 2})\n",
      "1\n",
      "b\n",
      "Counter({'a': 4, 'b': 3, 'c': 2})\n",
      "2\n",
      "c\n"
     ]
    }
   ],
   "source": [
    "lst = ['a','b','c']\n",
    "\n",
    "for number,item in enumerate(lst):\n",
    "    print(number)\n",
    "    print(item)"
   ]
  },
  {
   "cell_type": "code",
   "execution_count": 9,
   "metadata": {},
   "outputs": [
    {
     "name": "stdout",
     "output_type": "stream",
     "text": [
      "Constructor is executed 10\n",
      "10\n"
     ]
    }
   ],
   "source": [
    "class Test:\n",
    "    def __init__(self, num1): \n",
    "        # Constructor method to initialize the instance with a value\n",
    "        self.num1 = num1  # Assigning the value passed to the instance variable num1\n",
    "        print('Constructor is executed', self.num1)  # Printing a message along with the value\n",
    "\n",
    "    def fun(self):\n",
    "        # Method to print the value of num1\n",
    "        print(self.num1)  # Printing the value of the instance variable num1\n",
    "\n",
    "t = Test(10)  # Creating an instance of the Test class with the value 10\n",
    "t.fun()  # Calling the fun() method on the instance t\n"
   ]
  },
  {
   "cell_type": "code",
   "execution_count": 14,
   "metadata": {},
   "outputs": [
    {
     "name": "stdout",
     "output_type": "stream",
     "text": [
      "Name: guru prasath\n",
      "Age: 17\n",
      "Still wait to vote\n"
     ]
    }
   ],
   "source": [
    "p = input(\"Enter the name\")\n",
    "n = int(input(\"Enter the age:\"))\n",
    "class Student():\n",
    "    def __init__(self,name,age):\n",
    "        self.name = name\n",
    "        self.age = age\n",
    "    def vote_eligible(self):\n",
    "        if self.age>=18:\n",
    "            print(\"Eligible to vote\")\n",
    "        else:\n",
    "            print(\"Still wait to vote\")\n",
    "\n",
    "student = Student(p,n)\n",
    "print(\"Name:\",p)\n",
    "print(\"Age:\",n)\n",
    "student.vote_eligible()               \n"
   ]
  },
  {
   "cell_type": "code",
   "execution_count": 20,
   "metadata": {},
   "outputs": [
    {
     "name": "stdout",
     "output_type": "stream",
     "text": [
      "Radius is:  1\n",
      "Area is:  3.14\n",
      "Area is:  78.5\n",
      "Circumference is:  31.400000000000002\n",
      "Radius is:  2\n",
      "Area is:  12.56\n",
      "Circumference is:  12.56\n"
     ]
    }
   ],
   "source": [
    "class Circle:\n",
    "    # Class attribute for pi\n",
    "    pi = 3.14\n",
    "\n",
    "    # Circle gets instantiated with a radius (default is 1)\n",
    "    def __init__(self, radius=1):\n",
    "        # Instance attribute for radius\n",
    "        self.radius = radius \n",
    "        # Instance attribute for area\n",
    "        self.area = radius * radius * Circle.pi \n",
    "\n",
    "    # Method for resetting Radius\n",
    "    def setRadius(self, new_radius):\n",
    "        # Update the radius attribute\n",
    "        self.radius = new_radius\n",
    "        # Update the area attribute based on the new radius\n",
    "        self.area = new_radius * new_radius * self.pi\n",
    "\n",
    "    # Method for getting Circumference\n",
    "    def getCircumference(self):\n",
    "        # Calculate and return the circumference\n",
    "        return self.radius * self.pi * 2\n",
    "\n",
    "\n",
    "# Creating an instance of Circle with default radius\n",
    "c = Circle() \n",
    "\n",
    "# Printing initial radius and area\n",
    "print('Radius is: ', c.radius)\n",
    "print('Area is: ', c.area)\n",
    "\n",
    "# Setting a new radius and printing the updated area\n",
    "c.setRadius(5)\n",
    "print(\"Area is: \", c.area)\n",
    "\n",
    "# Printing the circumference\n",
    "print('Circumference is: ', c.getCircumference())\n",
    "\n",
    "# Setting another radius and printing the updated radius and area\n",
    "c.setRadius(2)\n",
    "print('Radius is: ', c.radius)\n",
    "print('Area is: ', c.area)\n",
    "\n",
    "# Printing the circumference\n",
    "print('Circumference is: ', c.getCircumference())"
   ]
  },
  {
   "cell_type": "code",
   "execution_count": 9,
   "metadata": {},
   "outputs": [
    {
     "name": "stdout",
     "output_type": "stream",
     "text": [
      "Area of rectangle: 430\n",
      "Perimeter of rectangle: 106\n"
     ]
    }
   ],
   "source": [
    "class Rectangle():\n",
    "    def __init__(self,length,width):\n",
    "        self.length = length\n",
    "        self.width = width\n",
    "    def area(self):\n",
    "        l = self.length\n",
    "        w = self.width\n",
    "        result = l*w\n",
    "        print(\"Area of rectangle:\",result)  \n",
    "    def perimeter(self):\n",
    "        l1 = self.length\n",
    "        w1 = self.width\n",
    "        result1 = (l1+w1)*2\n",
    "        print(\"Perimeter of rectangle:\",result1)\n",
    "\n",
    "length = int(input(\"Enter the length:\"))\n",
    "width = int(input(\"Enter the Width:\"))\n",
    "rectangle = Rectangle(length,width)\n",
    "rectangle.area()\n",
    "rectangle.perimeter()\n"
   ]
  },
  {
   "cell_type": "code",
   "execution_count": 15,
   "metadata": {},
   "outputs": [
    {
     "name": "stdout",
     "output_type": "stream",
     "text": [
      "Area of the Circle: 200\n",
      "Circumference of the circle: 50\n"
     ]
    }
   ],
   "source": [
    "import math\n",
    "class Circle():\n",
    "    pi = 3.14\n",
    "    def __init__(self,radius):\n",
    "        self.radius = radius\n",
    "    def area(self):\n",
    "        r = self.radius\n",
    "        b = 2\n",
    "        a = Circle.pi*(r**b)\n",
    "        print(\"Area of the Circle:\",math.floor(a))\n",
    "    def circumference(self):\n",
    "        r = self.radius\n",
    "        c = (2*Circle.pi)*r\n",
    "        print(\"Circumference of the circle:\",math.floor(c))\n",
    "radius = int(input(\"Enter the Radius:\"))\n",
    "circle = Circle(radius) \n",
    "circle.area()\n",
    "circle.circumference()\n",
    "\n"
   ]
  },
  {
   "cell_type": "code",
   "execution_count": 18,
   "metadata": {},
   "outputs": [],
   "source": [
    "class Employee():\n",
    "    def __init__(self,name,age,salary):\n",
    "        self.name = name\n",
    "        self.age  = age\n",
    "        self.salary = salary\n",
    "    def increase_salary(self,percentage_input):\n",
    "        percentage_input = input(\"Enter a percentage (e.g., 45%): \")\n",
    "        percentage = float(percentage_input.strip('%'))\n",
    "        if self.salary < percentage:\n",
    "            self.salary += percentage\n",
    "            print(percentage)\n",
    "\n",
    "employee = Employee(\"kanishk\",21,30000)\n",
    "employee.increase_salary(percentage_input=10)            \n",
    "\n"
   ]
  },
  {
   "cell_type": "code",
   "execution_count": 32,
   "metadata": {},
   "outputs": [
    {
     "name": "stdout",
     "output_type": "stream",
     "text": [
      "Name: Kanishk , Age: 21 , Salary: 50000\n",
      "Name: Kanishk , Age: 21 , Salary: 57000\n"
     ]
    }
   ],
   "source": [
    "import math\n",
    "class Employee:\n",
    "    def __init__(self, name, age, salary):\n",
    "        self.name = name\n",
    "        self.age = age\n",
    "        self.salary = salary\n",
    "        print(\"Name:\",self.name,\", Age:\",self.age,\", Salary:\",self.salary)\n",
    "    def increase_salary(self, percentage_increase):\n",
    "        increase_amount = self.salary * (percentage_increase / 100)\n",
    "        self.salary += increase_amount\n",
    "        print(\"Name:\",self.name,\", Age:\",self.age,\", Salary:\",math.floor(self.salary))\n",
    "percentage = int(input(\"Enter the percentage:\"))\n",
    "employee = Employee(\"Kanishk\", 21, 50000)\n",
    "employee.increase_salary(percentage) "
   ]
  },
  {
   "cell_type": "code",
   "execution_count": 48,
   "metadata": {},
   "outputs": [
    {
     "name": "stdout",
     "output_type": "stream",
     "text": [
      "Holder name: Kanishk BK\n",
      "Account number: 86666713\n",
      "Deposited amount: 5000\n",
      "Withdrawn money: 3000\n",
      "Balance: 22000\n"
     ]
    }
   ],
   "source": [
    "class BankAccount():\n",
    "    def __init__(self,account_number,holder_name,balance):\n",
    "        self.account_number = account_number\n",
    "        self.holder_name = holder_name\n",
    "        self.balance = balance\n",
    "        print(\"Holder name:\",self.holder_name)\n",
    "        print(\"Account number:\",self.account_number)\n",
    "       \n",
    "    def deposit(self,deposited_money):\n",
    "        self.deposited_money = deposited_money\n",
    "        increase_amount =  self.deposited_money\n",
    "        print(\"Deposited amount:\",increase_amount)\n",
    "    def withdraw(self,withdraw_amount):\n",
    "        decrease_amount =   withdraw_amount\n",
    "        print(\"Withdrawn money:\",decrease_amount)\n",
    "        decreas_amount =  (self.deposited_money+self.balance)- withdraw_amount\n",
    "        print(\"Balance:\",decreas_amount)\n",
    "account_number = int(input(\"Enter the account number:\"))\n",
    "holder_name = input(\"Enter the Holder name:\")\n",
    "balance = int(input(\"Enter the balance \"))\n",
    "bankaccount = BankAccount(account_number,holder_name,balance)\n",
    "deposited_money  = int(input(\"Enter the deposit money:\"))\n",
    "bankaccount.deposit(deposited_money)\n",
    "withdraw_amount = int(input(\"Enter the Withdrawal money:\"))\n",
    "bankaccount.withdraw(withdraw_amount)"
   ]
  },
  {
   "cell_type": "code",
   "execution_count": 1,
   "metadata": {},
   "outputs": [
    {
     "name": "stdout",
     "output_type": "stream",
     "text": [
      "Satyam 102\n",
      "Mayank 103\n",
      "Emp class called\n"
     ]
    }
   ],
   "source": [
    "class Person:\n",
    "# Constructor\n",
    "    def __init__(self, name, id):\n",
    "        self.name = name\n",
    "        self.id = id\n",
    "# To check if this person is an employee\n",
    "    def Display(self):\n",
    "        print(self.name, self.id)\n",
    "class Emp(Person):\n",
    "     def Print(self):\n",
    "         print(\"Emp class called\")\n",
    "# Driver code // Base class\n",
    "emp = Person(\"Satyam\", 102) # An Object of Person\n",
    "emp.Display()\n",
    "# Derivd code // Child class\n",
    "Emp_details = Emp(\"Mayank\", 103)\n",
    "# calling parent class function\n",
    "Emp_details.Display()\n",
    "# Calling child class function\n",
    "Emp_details.Print()"
   ]
  },
  {
   "cell_type": "code",
   "execution_count": 1,
   "metadata": {},
   "outputs": [
    {
     "ename": "ValueError",
     "evalue": "invalid literal for int() with base 10: 'g'",
     "output_type": "error",
     "traceback": [
      "\u001b[1;31m---------------------------------------------------------------------------\u001b[0m",
      "\u001b[1;31mValueError\u001b[0m                                Traceback (most recent call last)",
      "Cell \u001b[1;32mIn[1], line 1\u001b[0m\n\u001b[1;32m----> 1\u001b[0m \u001b[38;5;28;43mint\u001b[39;49m\u001b[43m(\u001b[49m\u001b[38;5;28;43minput\u001b[39;49m\u001b[43m(\u001b[49m\u001b[38;5;124;43m\"\u001b[39;49m\u001b[38;5;124;43mPlease 1st enter an integer: \u001b[39;49m\u001b[38;5;124;43m\"\u001b[39;49m\u001b[43m)\u001b[49m\u001b[43m)\u001b[49m\n",
      "\u001b[1;31mValueError\u001b[0m: invalid literal for int() with base 10: 'g'"
     ]
    }
   ],
   "source": [
    "int(input(\"Please 1st enter an integer: \"))"
   ]
  },
  {
   "cell_type": "code",
   "execution_count": 5,
   "metadata": {},
   "outputs": [
    {
     "ename": "ZeroDivisionError",
     "evalue": "division by zero",
     "output_type": "error",
     "traceback": [
      "\u001b[1;31m---------------------------------------------------------------------------\u001b[0m",
      "\u001b[1;31mZeroDivisionError\u001b[0m                         Traceback (most recent call last)",
      "Cell \u001b[1;32mIn[5], line 1\u001b[0m\n\u001b[1;32m----> 1\u001b[0m \u001b[38;5;241;43m4\u001b[39;49m\u001b[38;5;241;43m/\u001b[39;49m\u001b[38;5;241;43m0\u001b[39;49m\n",
      "\u001b[1;31mZeroDivisionError\u001b[0m: division by zero"
     ]
    }
   ],
   "source": [
    "4/0"
   ]
  },
  {
   "cell_type": "code",
   "execution_count": 6,
   "metadata": {},
   "outputs": [
    {
     "data": {
      "text/plain": [
       "0.0"
      ]
     },
     "execution_count": 6,
     "metadata": {},
     "output_type": "execute_result"
    }
   ],
   "source": [
    "0/4"
   ]
  },
  {
   "cell_type": "code",
   "execution_count": 4,
   "metadata": {},
   "outputs": [
    {
     "name": "stdout",
     "output_type": "stream",
     "text": [
      "Result:  1.25\n",
      "No exceptions detected\n",
      "I will always get executed\n"
     ]
    }
   ],
   "source": [
    "try:\n",
    "    val_1 = int(input(\"Please 1st enter an integer: \"))\n",
    "    val_2 = int(input(\"Please 2nd enter an integer: \"))\n",
    "    result = val_1/val_2\n",
    "    print(\"Result: \",result)\n",
    "except ValueError:\n",
    "    print(\"Looks like you did not enter an integer!\")\n",
    "except ZeroDivisionError:\n",
    "    print(\"abiwbgiuwbrg\")\n",
    "except:\n",
    "    print(\"No idea about the error\")\n",
    "else:\n",
    "    print(\"No exceptions detected\")\n",
    "finally:\n",
    "    print(\"I will always get executed\")"
   ]
  },
  {
   "cell_type": "code",
   "execution_count": 15,
   "metadata": {},
   "outputs": [],
   "source": [
    "def askint():\n",
    "    while True:\n",
    "        try:\n",
    "            val = int(input(\"Please enter an integer: \"))\n",
    "        except:\n",
    "            print(\"Looks like you did not enter an integer!\")\n",
    "            continue\n",
    "        else:\n",
    "            print(\"Yep that's an integer!\")\n",
    "            print(val)\n",
    "            break\n",
    "        finally:\n",
    "            print(\"Finally, I executed!\")\n",
    "askint()"
   ]
  },
  {
   "cell_type": "code",
   "execution_count": 5,
   "metadata": {},
   "outputs": [
    {
     "name": "stdout",
     "output_type": "stream",
     "text": [
      "1970 Chevy Cheville has started its engine.\n"
     ]
    }
   ],
   "source": [
    "class Car:\n",
    "    def __init__(self,model,year) -> None:\n",
    "        self.model = model\n",
    "        self.year = year\n",
    "    def start_engine(self):\n",
    "        print(self.year,self.model,\"has started its engine.\")\n",
    "\n",
    "car = Car(\"Chevy Cheville\",1970)\n",
    "car.start_engine()    \n",
    "\n",
    "        "
   ]
  },
  {
   "cell_type": "code",
   "execution_count": 1,
   "metadata": {},
   "outputs": [
    {
     "name": "stdout",
     "output_type": "stream",
     "text": [
      "9\n",
      "9\n"
     ]
    }
   ],
   "source": [
    "class Calculator:\n",
    "    def add(self, a, b):\n",
    "        return a + b\n",
    "    \n",
    "    def add(self, a, b, c):\n",
    "        return a + b + c\n",
    "\n",
    "calc = Calculator()\n",
    "print(calc.add(2, 3,4))       # throws error\n",
    "print(calc.add(2, 3,4))    # Output: 9"
   ]
  },
  {
   "cell_type": "code",
   "execution_count": 3,
   "metadata": {},
   "outputs": [
    {
     "name": "stdout",
     "output_type": "stream",
     "text": [
      "kanishk\n",
      "2/148h,Thirumoorthy nagar,poonganagar last,iyampalayam,Tirupur-641605.\n"
     ]
    }
   ],
   "source": [
    "class  Person:\n",
    "    def __init__(self,name,address):\n",
    "        self.name = name\n",
    "        self.address = address\n",
    "class Student(Person):\n",
    "    def student_id(self):\n",
    "        print(self.name)\n",
    "        print(self.address)\n",
    "name = input(\"Enter the student name:\")\n",
    "address = input(\"Enter the student address:\")\n",
    "person = Student(name,address)\n",
    "person.student_id()\n",
    "        \n",
    "\n"
   ]
  },
  {
   "cell_type": "code",
   "execution_count": 20,
   "metadata": {},
   "outputs": [
    {
     "name": "stdout",
     "output_type": "stream",
     "text": [
      "(20, 18)\n",
      "(12, 14)\n"
     ]
    }
   ],
   "source": [
    "class Shape():\n",
    "    def calculate_area(self,l,b):\n",
    "        self.l = l\n",
    "        self.b = b        \n",
    "class Rectangle(Shape):\n",
    "    def rec_area(self):\n",
    "       area1 = self.l*self.b\n",
    "       perimeter1 = (self.l+self.b)*2\n",
    "       return area1,perimeter1\n",
    "class Triangle(Shape):\n",
    "    def tri_area(self):\n",
    "        area = self.l*self.b\n",
    "        perimeter = (self.l+self.b)*2\n",
    "        return area,perimeter \n",
    "\n",
    "shape = Rectangle()\n",
    "shape.calculate_area(4,5)  \n",
    "a = shape.rec_area() \n",
    "print(a)\n",
    "shape = Triangle()\n",
    "shape.calculate_area(3,4)\n",
    "b = shape.tri_area()\n",
    "print(b)\n",
    "\n",
    "\n",
    "\n",
    "\n",
    "\n",
    "\n",
    "        \n"
   ]
  },
  {
   "cell_type": "code",
   "execution_count": 14,
   "metadata": {},
   "outputs": [
    {
     "name": "stdout",
     "output_type": "stream",
     "text": [
      "Area: 20\n",
      "Perimeter: 18\n"
     ]
    }
   ],
   "source": [
    "class Shape:\n",
    "    def set_dimensions(self, l, b):\n",
    "        self.l = l\n",
    "        self.b = b\n",
    "        \n",
    "class Rectangle(Shape):\n",
    "    def rec_area(self):\n",
    "        area = self.l * self.b\n",
    "        perimeter = 2 * (self.l + self.b)\n",
    "        print(\"Area:\", area)\n",
    "        print(\"Perimeter:\", perimeter)\n",
    "\n",
    "shape = Rectangle()\n",
    "shape.set_dimensions(4, 5)\n",
    "shape.rec_area()\n"
   ]
  },
  {
   "cell_type": "code",
   "execution_count": 20,
   "metadata": {},
   "outputs": [
    {
     "name": "stdout",
     "output_type": "stream",
     "text": [
      "('Alice', 25)\n"
     ]
    },
    {
     "data": {
      "text/plain": [
       "('Bob', 26)"
      ]
     },
     "execution_count": 20,
     "metadata": {},
     "output_type": "execute_result"
    }
   ],
   "source": [
    "class Person:\n",
    "    def __init__(self, name, age):\n",
    "        self._name = name  # Protected attribute\n",
    "        self.__age = age   # Private attribute\n",
    "\n",
    "    def display(self):\n",
    "        return self._name,self.__age\n",
    "    def _increment_age(self):\n",
    "        self.__age += 1\n",
    "person = Person(\"Alice\", 25)\n",
    "print(person.display())\n",
    "# Output:\n",
    "# Name: Alice\n",
    "# Age: 25\n",
    "person._name = 'Bob'  # Accessing protected attribute directly\n",
    "person._increment_age()  # Accessing protected method directly\n",
    "person.display()\n"
   ]
  },
  {
   "cell_type": "code",
   "execution_count": 7,
   "metadata": {},
   "outputs": [
    {
     "name": "stdout",
     "output_type": "stream",
     "text": [
      "Bob\n"
     ]
    }
   ],
   "source": [
    "print(person._name)"
   ]
  },
  {
   "cell_type": "code",
   "execution_count": 13,
   "metadata": {},
   "outputs": [
    {
     "name": "stdout",
     "output_type": "stream",
     "text": [
      "abc\n",
      "ABC\n"
     ]
    }
   ],
   "source": [
    "class Personal:\n",
    "    def password(self,value):\n",
    "        self.__password = value\n",
    "    def get_password(self):\n",
    "        return self.__password\n",
    "    \n",
    "    def set_password(self,new_value):\n",
    "        self.__password = new_value\n",
    "\n",
    "p = Personal()\n",
    "p.password(\"abc\")\n",
    "print(p.get_password())\n",
    "p.set_password(\"ABC\")\n",
    "print(p.get_password())"
   ]
  },
  {
   "cell_type": "code",
   "execution_count": 32,
   "metadata": {},
   "outputs": [
    {
     "name": "stdout",
     "output_type": "stream",
     "text": [
      "3\n"
     ]
    }
   ],
   "source": [
    "#find missing number\n",
    "def missing_number(self):\n",
    "   length = len(nums)\n",
    "   arr = (length+1)*(length+2)//2\n",
    "   add = sum(nums)\n",
    "   result = arr-add\n",
    "   return result\n",
    "nums = [1,2,4,5,6]\n",
    "a = missing_number(nums)\n",
    "print(a)"
   ]
  },
  {
   "cell_type": "code",
   "execution_count": 86,
   "metadata": {},
   "outputs": [
    {
     "name": "stdout",
     "output_type": "stream",
     "text": [
      "[2, 0, 1, 9]\n"
     ]
    }
   ],
   "source": [
    "num = 2019\n",
    "res = [int(x) for x in str(num)]\n",
    "print(res)"
   ]
  },
  {
   "cell_type": "code",
   "execution_count": 10,
   "metadata": {},
   "outputs": [
    {
     "name": "stdout",
     "output_type": "stream",
     "text": [
      "[33, 2, 7]\n"
     ]
    }
   ],
   "source": [
    "#find the same element in two arrays\n",
    "def find_sameelement(num1,num2):\n",
    "    intersection = []\n",
    "    for i in set(num1):\n",
    "       if i in set(num2):\n",
    "        intersection.append(i)\n",
    "        \n",
    "    return intersection\n",
    "num1 = [1,4,71,34,34,56,33,6,7,2,4]\n",
    "num2 = [2,33,7,43,67,0,3]\n",
    "print(find_sameelement(num1,num2))"
   ]
  },
  {
   "cell_type": "code",
   "execution_count": 49,
   "metadata": {},
   "outputs": [
    {
     "name": "stdout",
     "output_type": "stream",
     "text": [
      "[50]\n"
     ]
    }
   ],
   "source": [
    "#Find the peak element in the array\n",
    "\n",
    "def find_peaks(arr):\n",
    "\n",
    "   n = len(arr)\n",
    "   if n>1 and arr[0]>arr[1]:\n",
    "        return arr[0]\n",
    "   for i in range(1,len(arr)-1):\n",
    "        if arr[i]>arr[i-1] and arr[i]>arr[i+1]:\n",
    "           return arr[i]\n",
    "   if  n>1 and arr[-1]>arr[-2]:\n",
    "        return arr[-1]\n",
    "   return None\n",
    "   \n",
    "\n",
    "arr = [10,20,30,50,10]\n",
    "peaks = []\n",
    "peaks.append(find_peaks(arr))\n",
    "print(peaks)\n",
    "\n",
    "   \n",
    "             \n",
    "\n",
    "      "
   ]
  },
  {
   "cell_type": "code",
   "execution_count": 36,
   "metadata": {},
   "outputs": [
    {
     "name": "stdout",
     "output_type": "stream",
     "text": [
      "[3, 4, 5, 2]\n"
     ]
    }
   ],
   "source": [
    "#Find duplicate in an array.\n",
    "a = [2,3,3,4,5,4,5,5,5,2,5,5]\n",
    "n = len(a)\n",
    "seen = []\n",
    "duplicate = []\n",
    "i = 0\n",
    "while i<n:\n",
    "    if a[i] in seen and a[i] not in duplicate:\n",
    "        duplicate.append(a[i])\n",
    "    seen.append(a[i])\n",
    "    i+=1  \n",
    "print(duplicate)       "
   ]
  },
  {
   "cell_type": "code",
   "execution_count": 30,
   "metadata": {},
   "outputs": [
    {
     "name": "stdout",
     "output_type": "stream",
     "text": [
      "[]\n",
      "True\n",
      "None\n"
     ]
    }
   ],
   "source": [
    "#to chec chararray\n",
    "\n",
    "\n",
    "def chararray(arr):\n",
    "   \n",
    "   for i in arr:\n",
    "\n",
    "    if i =='(':\n",
    "       stack.extend(')')\n",
    "        \n",
    "       print('True')\n",
    "    elif i =='{':\n",
    "        stack.extend('}')\n",
    "        print ('True')\n",
    "    elif i == '[':\n",
    "        stack.extend(']')\n",
    "        print( 'True')\n",
    "    else:\n",
    "       return False    \n",
    "arr = (\"{\")\n",
    "stack = [] \n",
    "print(stack) \n",
    "a = (chararray(arr))\n",
    "print(a)\n",
    " \n",
    "\n",
    "\n",
    "        "
   ]
  },
  {
   "cell_type": "code",
   "execution_count": 46,
   "metadata": {},
   "outputs": [
    {
     "name": "stdout",
     "output_type": "stream",
     "text": [
      "True\n"
     ]
    }
   ],
   "source": [
    "#Sum of square numbers\n",
    "import math\n",
    "def judgeSquareSum(c):\n",
    "    \n",
    "    for a in range(int(math.sqrt(c)) + 1):\n",
    "        b = math.sqrt(c - a * a)\n",
    "        \n",
    "        if b == int(b):\n",
    "            return True\n",
    "    return False\n",
    "\n",
    "\n",
    "c = 4\n",
    "print(judgeSquareSum(c))  "
   ]
  },
  {
   "cell_type": "code",
   "execution_count": 45,
   "metadata": {},
   "outputs": [
    {
     "name": "stdout",
     "output_type": "stream",
     "text": [
      "[3, -2, 1, -5, 8, -4, 2, 6]\n"
     ]
    }
   ],
   "source": [
    "#arrange elements by sign \n",
    "def rearrange_by_sign(arr):\n",
    "    positive = [i for i in arr if i>0]\n",
    "    negative = [i for i in arr if i<0]\n",
    "    result = []\n",
    "    for p,n in zip(positive,negative):\n",
    "        result.extend([p,n])\n",
    "    result.extend(positive[len(negative):])\n",
    "    result.extend(negative[len(positive):])\n",
    "    return result\n",
    "input_arr = [3, 1, -2, -5,0,8, 2,6, -4]\n",
    "output_arr = rearrange_by_sign(input_arr)\n",
    "\n",
    "print(output_arr)  "
   ]
  },
  {
   "cell_type": "code",
   "execution_count": 7,
   "metadata": {},
   "outputs": [
    {
     "data": {
      "text/plain": [
       "6"
      ]
     },
     "execution_count": 7,
     "metadata": {},
     "output_type": "execute_result"
    }
   ],
   "source": [
    "# Kadane's algorithm \n",
    "class Solution():\n",
    "    def maxSubArray(self,nums):\n",
    "        cur_sum = 0\n",
    "        max_sum = float('-inf')\n",
    "        n = len(nums)\n",
    "        for i in range(n):\n",
    "            cur_sum += nums[i]\n",
    "            max_sum = max(max_sum,cur_sum)\n",
    "            if cur_sum<0:\n",
    "                cur_sum = 0\n",
    "        return max_sum        \n",
    "\n",
    "nums = [-2,1,-3,4,-1,2,1,-5,4]   \n",
    "solution = Solution()\n",
    "solution.maxSubArray(nums)         "
   ]
  },
  {
   "cell_type": "code",
   "execution_count": 10,
   "metadata": {},
   "outputs": [
    {
     "name": "stdout",
     "output_type": "stream",
     "text": [
      "[2, 0, 1, 9]\n"
     ]
    }
   ],
   "source": [
    "num = 2019\n",
    "res = [int(x) for x in str(num)]\n",
    "print(res)"
   ]
  },
  {
   "cell_type": "code",
   "execution_count": 17,
   "metadata": {},
   "outputs": [
    {
     "name": "stdout",
     "output_type": "stream",
     "text": [
      "120\n"
     ]
    }
   ],
   "source": [
    "#product of all int in arrays\n",
    "num = [1,2,3,4,5]\n",
    "product = 1\n",
    "for i in num:\n",
    "    result = product*i\n",
    "    product = result\n",
    "print(product)\n"
   ]
  },
  {
   "cell_type": "code",
   "execution_count": 9,
   "metadata": {},
   "outputs": [
    {
     "name": "stdout",
     "output_type": "stream",
     "text": [
      "True\n"
     ]
    }
   ],
   "source": [
    "# Valid Parentheses\n",
    "def isValid_parentheses(s):\n",
    "    stack = []\n",
    "    parentheses_map = {')':'(','}':'{',']':'['}\n",
    "    for i in s:\n",
    "        if i in parentheses_map:\n",
    "            top_element = stack.pop() if stack else '#'\n",
    "            if parentheses_map[i]!= top_element:\n",
    "                return False\n",
    "        else:\n",
    "            stack.append(i)\n",
    "    return not  stack        \n",
    "\n",
    "\n",
    "print(isValid_parentheses(\"()[{}]\"))"
   ]
  },
  {
   "cell_type": "code",
   "execution_count": 11,
   "metadata": {},
   "outputs": [
    {
     "name": "stdout",
     "output_type": "stream",
     "text": [
      "['((()))', '(()())', '(())()', '()(())', '()()()']\n"
     ]
    }
   ],
   "source": [
    "def generateParenthesis(n):\n",
    "    result = []\n",
    "    \n",
    "    def backtrack(s='', left=0, right=0):\n",
    "        if len(s) == 2 * n:\n",
    "            result.append(s)\n",
    "            return  # Implicitly returns None\n",
    "        if left < n:\n",
    "            backtrack(s + '(', left + 1, right)\n",
    "        if right < left:\n",
    "            backtrack(s + ')', left, right + 1)\n",
    "    \n",
    "    backtrack()\n",
    "    return result\n",
    "\n",
    "n = int(input())\n",
    "print(generateParenthesis(n))\n"
   ]
  },
  {
   "cell_type": "code",
   "execution_count": 17,
   "metadata": {},
   "outputs": [
    {
     "name": "stdout",
     "output_type": "stream",
     "text": [
      "Woof!\n",
      "neigh!\n"
     ]
    }
   ],
   "source": [
    "from abc import ABC, abstractmethod     # packages\n",
    "\n",
    "class Animal(ABC):\n",
    "    @abstractmethod # decorator\n",
    "    def make_sound(self):\n",
    "        print(\"neigh!\")\n",
    "\n",
    "class Dog(Animal):\n",
    "    def make_sound(self):\n",
    "        print(\"Woof!\")\n",
    "\n",
    "class Cat(Animal):\n",
    "    def make_sound(self):\n",
    "        print(\"Meow!\")\n",
    "        \n",
    "class Horse(Animal):\n",
    "    pass\n",
    "\n",
    "# Cannot instantiate the abstract class directly\n",
    "# animal = Animal()  # Raises TypeError\n",
    "\n",
    "dog = Dog()\n",
    "dog.make_sound()  # Output: Woof!\n",
    "\n",
    "  # Output: Meow!\n",
    "\n",
    "horse = Horse()\n",
    "horse.make_sound()"
   ]
  },
  {
   "cell_type": "code",
   "execution_count": 21,
   "metadata": {},
   "outputs": [
    {
     "data": {
      "text/plain": [
       "True"
      ]
     },
     "execution_count": 21,
     "metadata": {},
     "output_type": "execute_result"
    }
   ],
   "source": [
    "#Palondrme's method.\n",
    "def palondrome(self):\n",
    "    if str(num) == str(num)[::-1]:\n",
    "        return True\n",
    "    else:\n",
    "        return False\n",
    "    \n",
    "num = 131\n",
    "palondrome(num)    "
   ]
  },
  {
   "cell_type": "code",
   "execution_count": 3,
   "metadata": {},
   "outputs": [
    {
     "data": {
      "text/plain": [
       "5"
      ]
     },
     "execution_count": 3,
     "metadata": {},
     "output_type": "execute_result"
    }
   ],
   "source": [
    "def balancedSpring(self):\n",
    "    a =len(s)\n",
    "    leftcount = []\n",
    "    rightcount = []\n",
    "    ans = []\n",
    "    for i in range(a):\n",
    "        if s[i]=='R':\n",
    "            rightcount.append(s[i])\n",
    "        else:\n",
    "            leftcount.append(s[i])\n",
    "        if len(rightcount) == len(leftcount):\n",
    "             ans.append(s[i])\n",
    "    return len(ans)         \n",
    "\n",
    "\n",
    "s=\"RLRLLRLRLRL\" \n",
    "balancedSpring(s)"
   ]
  },
  {
   "cell_type": "code",
   "execution_count": 1,
   "metadata": {},
   "outputs": [
    {
     "data": {
      "text/plain": [
       "5"
      ]
     },
     "execution_count": 1,
     "metadata": {},
     "output_type": "execute_result"
    }
   ],
   "source": [
    "def balancedSpring(self):\n",
    "    a =len(s)\n",
    "    leftcount = 0\n",
    "    rightcount = 0\n",
    "    ans = 0\n",
    "    for i in range(a):\n",
    "        if s[i]=='R'or s[i]=='r':\n",
    "            rightcount= rightcount+1\n",
    "        else:\n",
    "            leftcount = leftcount+1\n",
    "        if rightcount == leftcount:\n",
    "            ans = ans+1\n",
    "    return ans         \n",
    "\n",
    "\n",
    "s=\"RLRLRLLRLRL\" \n",
    "balancedSpring(s)"
   ]
  },
  {
   "cell_type": "code",
   "execution_count": 5,
   "metadata": {},
   "outputs": [
    {
     "data": {
      "text/plain": [
       "42"
      ]
     },
     "execution_count": 5,
     "metadata": {},
     "output_type": "execute_result"
    }
   ],
   "source": [
    "def smallest(self):\n",
    "   for i in range(n,n1):\n",
    "      if i%2==0 and i%n==0:\n",
    "         return i\n",
    "      \n",
    "         \n",
    "\n",
    "n = int(input(\"Enter the number:\"))\n",
    "n1  = n*10\n",
    "smallest(n)"
   ]
  },
  {
   "cell_type": "code",
   "execution_count": 1,
   "metadata": {},
   "outputs": [
    {
     "name": "stdout",
     "output_type": "stream",
     "text": [
      "2.0\n"
     ]
    }
   ],
   "source": [
    "def div(a, b):\n",
    "    print(a / b)\n",
    "def smart_div(func):\n",
    "    def inner(a, b):\n",
    "        if a < b:\n",
    "          a, b = b, a\n",
    "        return func(a, b)\n",
    "    return inner\n",
    "div = smart_div(div)\n",
    "div(4, 2)"
   ]
  },
  {
   "cell_type": "code",
   "execution_count": 10,
   "metadata": {},
   "outputs": [
    {
     "name": "stdout",
     "output_type": "stream",
     "text": [
      "Not Weird\n"
     ]
    }
   ],
   "source": [
    "n = int(input())\n",
    "\n",
    "    \n",
    "if (n%2!=0):\n",
    "      print(\"Weird\")\n",
    "elif (n%2==0) and (2<=n<=5):\n",
    "      print(\"Not Weird\")    \n",
    "elif (n%2==0) and (6<=n<=20):\n",
    "      print(\"Weird\")    \n",
    "elif (n%2==0) and (n>20):\n",
    "      print(\"Not Weird\")\n",
    "else:\n",
    "      print(\"n is invalid\")      "
   ]
  },
  {
   "cell_type": "code",
   "execution_count": null,
   "metadata": {},
   "outputs": [],
   "source": [
    "N, M = map(int, input().split())\n",
    "athletes = []\n",
    "for _ in range(N):\n",
    "    athletes.append(list(map(int, input().split())))\n",
    "K = int(input().strip())\n",
    "sorted_athletes = sorted(athletes, key=lambda x: x[K])\n",
    "for athlete in sorted_athletes:\n",
    "    print(' '.join(map(str, athlete)))"
   ]
  },
  {
   "cell_type": "code",
   "execution_count": 15,
   "metadata": {},
   "outputs": [
    {
     "name": "stdout",
     "output_type": "stream",
     "text": [
      "7 1 0\n",
      "10 2 5\n",
      "6 5 9\n",
      "9 9 9\n",
      "1 23 12\n"
     ]
    }
   ],
   "source": [
    "nm = input().split()\n",
    "\n",
    "n = int(nm[0])\n",
    "\n",
    "m = int(nm[1])\n",
    "\n",
    "arr = []\n",
    "\n",
    "for i in range(n):\n",
    "    arr.append(list(map(int, input().split())))\n",
    "\n",
    "k = int(input())\n",
    "arr.sort(key=lambda x: x[k])\n",
    "for i in arr:\n",
    "    print(*i)\n",
    "    \n"
   ]
  },
  {
   "cell_type": "code",
   "execution_count": 20,
   "metadata": {},
   "outputs": [
    {
     "name": "stdout",
     "output_type": "stream",
     "text": [
      "[7, 1, 0]\n",
      "[10, 2, 5]\n",
      "[9, 9, 9]\n"
     ]
    }
   ],
   "source": [
    "# List of athletes (each with 3 attributes)\n",
    "athletes = [\n",
    "    [10, 2, 5],\n",
    "    [7, 1, 0],\n",
    "    [9, 9, 9]\n",
    "]\n",
    "\n",
    "# Sort athletes based on the second attribute (index 1)\n",
    "sorted_athletes = sorted(athletes, key=lambda x: x[2])\n",
    "\n",
    "# Print sorted athletes\n",
    "for athlete in sorted_athletes:\n",
    "    print(athlete)\n"
   ]
  },
  {
   "cell_type": "code",
   "execution_count": null,
   "metadata": {},
   "outputs": [],
   "source": [
    "students = []\n",
    "for _ in range(int(input())):\n",
    "    name = input()\n",
    "    score = float(input())\n",
    "    students.append([name,score])\n",
    "scores = [i[1] for i in students]\n",
    "second_lowest = sorted(list(set(scores)))[1]\n",
    "names = []\n",
    "for i in range(len(students)):\n",
    "    if students[i][1]==second_lowest:\n",
    "        names.append(students[i][0])\n",
    "name = sorted(names)        \n",
    "for i in name:\n",
    "    print(i)"
   ]
  },
  {
   "cell_type": "code",
   "execution_count": null,
   "metadata": {},
   "outputs": [],
   "source": [
    "n = int(input())\n",
    "student_marks = {}\n",
    "for _ in range(n):\n",
    "    name, *line = input().split()\n",
    "    scores = list(map(float, line))\n",
    "    student_marks[name] = scores\n",
    "query_name = input()\n",
    "query_score = student_marks[query_name]\n",
    "score = sum(query_score)/len(query_score)\n",
    "print(f'{score:.2f}')"
   ]
  },
  {
   "cell_type": "code",
   "execution_count": 4,
   "metadata": {},
   "outputs": [
    {
     "name": "stdout",
     "output_type": "stream",
     "text": [
      "4\n"
     ]
    }
   ],
   "source": [
    "def min_money_needed_to_cover_expense(N, earnings, costs):\n",
    "    net_earnings = [earnings[i] - costs[i] for i in range(N)]\n",
    "    net_earnings.sort()\n",
    "    \n",
    "    min_money_needed = 0\n",
    "    current_balance = 0\n",
    "    \n",
    "    for net in net_earnings:\n",
    "        current_balance += net\n",
    "        if current_balance < 0:\n",
    "            min_money_needed += abs(current_balance)\n",
    "            current_balance = 0\n",
    "    \n",
    "    return min_money_needed\n",
    "\n",
    "# Sample Input\n",
    "N = 3\n",
    "earnings = [3, 4, 2]\n",
    "costs = [5, 3, 4]\n",
    "\n",
    "# Calculate and print the minimum money needed\n",
    "print(min_money_needed_to_cover_expense(N, earnings, costs))\n"
   ]
  },
  {
   "cell_type": "code",
   "execution_count": 3,
   "metadata": {},
   "outputs": [
    {
     "ename": "IndexError",
     "evalue": "list index out of range",
     "output_type": "error",
     "traceback": [
      "\u001b[1;31m---------------------------------------------------------------------------\u001b[0m",
      "\u001b[1;31mIndexError\u001b[0m                                Traceback (most recent call last)",
      "Cell \u001b[1;32mIn[3], line 11\u001b[0m\n\u001b[0;32m      9\u001b[0m     my_list\u001b[38;5;241m.\u001b[39mappend(\u001b[38;5;28mint\u001b[39m(ent[\u001b[38;5;241m1\u001b[39m]))\n\u001b[0;32m     10\u001b[0m \u001b[38;5;28;01melif\u001b[39;00m command \u001b[38;5;241m==\u001b[39m \u001b[38;5;124m\"\u001b[39m\u001b[38;5;124minsert\u001b[39m\u001b[38;5;124m\"\u001b[39m:\n\u001b[1;32m---> 11\u001b[0m     my_list\u001b[38;5;241m.\u001b[39minsert(\u001b[38;5;28mint\u001b[39m(\u001b[43ment\u001b[49m\u001b[43m[\u001b[49m\u001b[38;5;241;43m1\u001b[39;49m\u001b[43m]\u001b[49m), \u001b[38;5;28mint\u001b[39m(ent[\u001b[38;5;241m1\u001b[39m]))\n\u001b[0;32m     12\u001b[0m \u001b[38;5;28;01melif\u001b[39;00m command \u001b[38;5;241m==\u001b[39m \u001b[38;5;124m\"\u001b[39m\u001b[38;5;124mremove\u001b[39m\u001b[38;5;124m\"\u001b[39m:\n\u001b[0;32m     13\u001b[0m     my_list\u001b[38;5;241m.\u001b[39mremove(\u001b[38;5;28mint\u001b[39m(ent[\u001b[38;5;241m1\u001b[39m]))\n",
      "\u001b[1;31mIndexError\u001b[0m: list index out of range"
     ]
    }
   ],
   "source": [
    "N = int(input())\n",
    "my_list = []  \n",
    "\n",
    "for i in range(N):\n",
    "    ent = str(input()).split()  \n",
    "    command = ent[0]  \n",
    "\n",
    "    if command == \"append\":\n",
    "        my_list.append(int(ent[1]))\n",
    "    elif command == \"insert\":\n",
    "        my_list.insert(int(ent[1]), int(ent[2]))\n",
    "    elif command == \"remove\":\n",
    "        my_list.remove(int(ent[1]))\n",
    "    elif command == \"sort\":\n",
    "        my_list.sort()\n",
    "    elif command == \"pop\":\n",
    "        if len(ent) > 1:\n",
    "            my_list.pop(int(ent[1]))\n",
    "        else:\n",
    "            my_list.pop()\n",
    "    elif command == \"reverse\":\n",
    "        my_list.reverse()\n",
    "    elif command == \"print\":\n",
    "        print(my_list)"
   ]
  },
  {
   "cell_type": "code",
   "execution_count": 3,
   "metadata": {},
   "outputs": [
    {
     "name": "stdout",
     "output_type": "stream",
     "text": [
      "-3550055125485641917\n"
     ]
    }
   ],
   "source": [
    "# Read the input for the number of elements in the tuple\n",
    "n = int(input())\n",
    "\n",
    "# Read the space-separated integers and convert them into a tuple\n",
    "integer_list = tuple(map(int, input().split()))\n",
    "\n",
    "# Compute the hash of the tuple\n",
    "result = hash(integer_list)\n",
    "\n",
    "# Print the result\n",
    "print(result)\n"
   ]
  },
  {
   "cell_type": "code",
   "execution_count": 47,
   "metadata": {},
   "outputs": [
    {
     "name": "stdout",
     "output_type": "stream",
     "text": [
      "6\n"
     ]
    }
   ],
   "source": [
    "S = 'my name is kanishk'\n",
    "a = S.split()\n",
    "result  = a[1:-1]\n",
    "b = ''.join(result)\n",
    "print(len(b))\n",
    "\n",
    "\n"
   ]
  },
  {
   "cell_type": "code",
   "execution_count": 1,
   "metadata": {},
   "outputs": [
    {
     "name": "stdout",
     "output_type": "stream",
     "text": [
      "Hello\n",
      "Hi\n"
     ]
    },
    {
     "name": "stdout",
     "output_type": "stream",
     "text": [
      "HiHello\n",
      "\n",
      "HelloHi\n",
      "\n",
      "HelloHi\n",
      "\n",
      "Hi\n",
      "Hello\n"
     ]
    }
   ],
   "source": [
    "from threading import Thread\n",
    "import time\n",
    "\n",
    "# Define a class Hello that inherits from the Thread class\n",
    "class Hello(Thread):\n",
    "    # Define a method run() which will be executed by the thread\n",
    "    def run(self):\n",
    "        # Perform the task (printing \"Hello\" with a delay)\n",
    "        for i in range(5):\n",
    "            print(\"Hello\")\n",
    "            time.sleep(1)  # Introduce a 1-second delay between each print statement\n",
    "          \n",
    "# Define a class Hi that inherits from the Thread class\n",
    "class Hi(Thread):\n",
    "    # Define a method run() which will be executed by the thread\n",
    "    def run(self):\n",
    "        # Perform the task (printing \"Hi\"  with a delay)\n",
    "        for i in range(5):\n",
    "            print(\"Hi\")\n",
    "            time.sleep(1)  # Introduce a 1-second delay between each print statement\n",
    "\n",
    "# Create instances of the Hello and Hi classes\n",
    "t1 = Hello()\n",
    "t2 = Hi()\n",
    "\n",
    "# Start the Hello thread\n",
    "t1.start()\n",
    "\n",
    "# Start the Hi thread\n",
    "t2.start()"
   ]
  },
  {
   "cell_type": "code",
   "execution_count": 3,
   "metadata": {},
   "outputs": [
    {
     "name": "stdout",
     "output_type": "stream",
     "text": [
      "Time taken:  0.0\n"
     ]
    },
    {
     "name": "stdout",
     "output_type": "stream",
     "text": [
      "Double: Square:  1\n",
      " 2\n",
      "Square: Double:  4\n",
      " 4\n",
      "Double: Square:  9\n",
      " 6\n",
      "Double: Square:  16\n",
      " 8\n",
      "Double: Square:  25\n",
      " 10\n",
      "Square:  36\n",
      "Double:  12\n"
     ]
    }
   ],
   "source": [
    "from threading import *\n",
    "import time\n",
    "\n",
    "# Function to double each number in a list\n",
    "def double(num):\n",
    "    for n in num:\n",
    "        time.sleep(1)  # Introduce a 1-second delay for demonstration\n",
    "        print('Double: ', 2*n)\n",
    "\n",
    "# Function to square each number in a list\n",
    "def square(num):\n",
    "    for n in num:\n",
    "        time.sleep(1)  # Introduce a 1-second delay for demonstration\n",
    "        print('Square: ', n*n)\n",
    "\n",
    "# List of numbers\n",
    "num = [1, 2, 3, 4, 5, 6]\n",
    "\n",
    "# Record the starting time\n",
    "begintime = time.time()\n",
    "\n",
    "# Create a thread to execute the double() function\n",
    "t1 = Thread(target=double, args=(num,))\n",
    "\n",
    "# Create a thread to execute the square() function\n",
    "t2 = Thread(target=square, args=(num,))\n",
    "\n",
    "# Start both threads\n",
    "t1.start()\n",
    "t2.start()\n",
    "\n",
    "# Wait for both threads to finish execution\n",
    "t1.join()\n",
    "t2.join()\n",
    "\n",
    "# Record the ending time\n",
    "endtime = time.time()\n",
    "\n",
    "# Calculate and print the time taken for the threads to execute\n",
    "print('Time taken: ', endtime - begintime)"
   ]
  },
  {
   "cell_type": "code",
   "execution_count": 21,
   "metadata": {},
   "outputs": [
    {
     "name": "stdout",
     "output_type": "stream",
     "text": [
      "hello how\n"
     ]
    }
   ],
   "source": [
    "k = 2\n",
    "s = 'hello how are you contestant'\n",
    "b = s.split()\n",
    "def fun(b):\n",
    "  result = []\n",
    "  for i in range(k):\n",
    "    result.append(b[i])\n",
    "\n",
    "  return ' '.join(result)\n",
    "\n",
    "c = fun(b)\n",
    "print(c)\n"
   ]
  },
  {
   "cell_type": "code",
   "execution_count": 79,
   "metadata": {},
   "outputs": [
    {
     "name": "stdout",
     "output_type": "stream",
     "text": [
      "1\n"
     ]
    }
   ],
   "source": [
    "\n",
    "num1 = [3,6,1,4,2]\n",
    "num2 = [1,9,2,4]\n",
    "num3 = []\n",
    "for i in num1:\n",
    "    if i in num2:\n",
    "        num3.append(i)\n",
    "num3.sort()\n",
    "print(num3[0])    \n",
    "\n"
   ]
  },
  {
   "cell_type": "code",
   "execution_count": 78,
   "metadata": {},
   "outputs": [
    {
     "name": "stdout",
     "output_type": "stream",
     "text": [
      "False\n",
      "True\n",
      "False\n"
     ]
    }
   ],
   "source": [
    "def wordPattern(pattern, s):\n",
    "    words = s.split()\n",
    "    if len(pattern) != len(words):\n",
    "        return False\n",
    "    char_to_word = {}\n",
    "    word_to_char = {}\n",
    "    for char, word in zip(pattern, words):\n",
    "        if char in char_to_word:\n",
    "            if char_to_word[char] != word:\n",
    "                return False\n",
    "        else:\n",
    "            char_to_word[char] = word\n",
    "        \n",
    "        if word in word_to_char:\n",
    "            if word_to_char[word] != char:\n",
    "                return False\n",
    "        else:\n",
    "            word_to_char[word] = char\n",
    "    return True\n",
    "print(wordPattern(\"abba\", \"dog cat cat fish\"))  \n",
    "print(wordPattern(\"abba\", \"dog cat cat dog\"))  \n",
    "print(wordPattern(\"aaaa\", \"dog cat cat dog\"))  "
   ]
  },
  {
   "cell_type": "code",
   "execution_count": 7,
   "metadata": {},
   "outputs": [
    {
     "name": "stdout",
     "output_type": "stream",
     "text": [
      "[3, 2, 2, 2, 1, 1, 1, 1]\n"
     ]
    }
   ],
   "source": [
    "from collections import Counter\n",
    "\n",
    "def frequencySort(nums):\n",
    "    freq = Counter(nums)\n",
    "    sorted_nums = sorted(nums, key=lambda x: (freq[x], -nums.index(x)))\n",
    "    return sorted_nums\n",
    "\n",
    "nums = [1, 1,1,1, 2, 2, 2, 3]\n",
    "output = frequencySort(nums)\n",
    "print(output)  \n"
   ]
  },
  {
   "cell_type": "code",
   "execution_count": 43,
   "metadata": {},
   "outputs": [
    {
     "name": "stdout",
     "output_type": "stream",
     "text": [
      "2,3\n"
     ]
    }
   ],
   "source": [
    "from collections import Counter\n",
    "nums = [1,2,3,3,2,4,5,6]\n",
    "num = Counter(nums)\n",
    "a = []\n",
    "for i in num:\n",
    "    if num[i]>1:\n",
    "        a.append(i)\n",
    "s = [str(i) for i in a]        \n",
    "res = str(','.join(s))\n",
    "    \n",
    "print(res)\n",
    "        "
   ]
  },
  {
   "cell_type": "code",
   "execution_count": 44,
   "metadata": {},
   "outputs": [
    {
     "name": "stdout",
     "output_type": "stream",
     "text": [
      "[2]\n"
     ]
    }
   ],
   "source": [
    "def findDuplicates(nums):\n",
    "    seen  = set()\n",
    "    duplicate = set()\n",
    "    for num in nums:\n",
    "        if num in seen:\n",
    "            duplicate.add(num)\n",
    "        else:\n",
    "            seen.add(num)\n",
    "    return [int(i) for i in duplicate]\n",
    "\n",
    "nums = [1,2,2,3,4]\n",
    "print(findDuplicates(nums))"
   ]
  },
  {
   "cell_type": "code",
   "execution_count": 74,
   "metadata": {},
   "outputs": [
    {
     "name": "stdout",
     "output_type": "stream",
     "text": [
      "['o', 'l', 'l', 'e', 'h']\n"
     ]
    }
   ],
   "source": [
    "a = ['h','e','l','l','o']\n",
    "b = a[::-1]\n",
    "print(b)"
   ]
  },
  {
   "cell_type": "code",
   "execution_count": 83,
   "metadata": {},
   "outputs": [
    {
     "name": "stdout",
     "output_type": "stream",
     "text": [
      "[1, 2, 3, 4, 5, 1, 2, 3, 4, 5]\n"
     ]
    }
   ],
   "source": [
    "a = [1,2,3,4,5]\n",
    "b = [1,2,3,4,5]\n",
    "c = a+b\n",
    "print(c)"
   ]
  },
  {
   "cell_type": "code",
   "execution_count": 90,
   "metadata": {},
   "outputs": [
    {
     "name": "stdout",
     "output_type": "stream",
     "text": [
      "[0, 1, 2]\n"
     ]
    }
   ],
   "source": [
    "n = 3\n",
    "list = []\n",
    "for i in range(0,n):\n",
    "    ele = int(input())\n",
    "    list.append(ele)\n",
    "print(list)    "
   ]
  },
  {
   "cell_type": "code",
   "execution_count": 2,
   "metadata": {},
   "outputs": [
    {
     "name": "stdout",
     "output_type": "stream",
     "text": [
      "1\n"
     ]
    }
   ],
   "source": [
    "def count_substring(string, sub_string):\n",
    "    count = 0\n",
    "    for i in range(0, len(string)):\n",
    "        if string[i:i+len(sub_string)]==(sub_string):\n",
    "            count+=1\n",
    "    return count        \n",
    "    \n",
    "\n",
    "if __name__ == '__main__':\n",
    "    string = input().strip()\n",
    "    sub_string = input().strip()\n",
    "    \n",
    "    count = count_substring(string, sub_string)\n",
    "    print(count)"
   ]
  },
  {
   "cell_type": "code",
   "execution_count": 3,
   "metadata": {},
   "outputs": [
    {
     "name": "stdout",
     "output_type": "stream",
     "text": [
      "---------.|.---------\n",
      "------.|..|..|.------\n",
      "---.|..|..|..|..|.---\n",
      "-------WELCOME-------\n",
      "---.|..|..|..|..|.---\n",
      "------.|..|..|.------\n",
      "---------.|.---------\n"
     ]
    }
   ],
   "source": [
    "# Door mat design.\n",
    "N, M = map(int, input().split())\n",
    "\n",
    "# Upper part\n",
    "for i in range(1, N, 2):\n",
    "    print(('.|.' * i).center(M, '-'))\n",
    "\n",
    "# Middle part\n",
    "print('WELCOME'.center(M, '-'))\n",
    "\n",
    "# Lower part\n",
    "for i in range(N-2, -1, -2):\n",
    "    print(('.|.' * i).center(M, '-'))\n"
   ]
  },
  {
   "cell_type": "code",
   "execution_count": 7,
   "metadata": {},
   "outputs": [
    {
     "name": "stdout",
     "output_type": "stream",
     "text": [
      "------e------\n",
      "----e-d-e----\n",
      "--e-d-c-d-e--\n",
      "e-d-c-b-c-d-e\n",
      "e-d-c-b-a-b-c-d-e\n",
      "e-d-c-b-c-d-e\n",
      "--e-d-c-d-e--\n",
      "----e-d-e----\n",
      "------e------\n"
     ]
    }
   ],
   "source": [
    "def print_rangoli(size):\n",
    "    alphabet = 'abcdefghijklmnopqrstuvwxyz'\n",
    "    # Determine the width of the full rangoli pattern\n",
    "    width = 3 * size - 2  # Width calculation using the derived formula\n",
    "    \n",
    "    # Generate the pattern\n",
    "    pattern = []\n",
    "    for i in range(size):\n",
    "        s = '-'.join(alphabet[size-1:i:-1] + alphabet[i:size])\n",
    "        pattern.append(s.center(width, '-'))\n",
    "    \n",
    "    # Print the pattern\n",
    "    for line in pattern[::-1] + pattern[1:]:\n",
    "        print(line)\n",
    "\n",
    "if __name__ == '__main__':\n",
    "    n = int(input())\n",
    "    print_rangoli(n)\n"
   ]
  },
  {
   "cell_type": "code",
   "execution_count": 24,
   "metadata": {},
   "outputs": [
    {
     "data": {
      "text/plain": [
       "1"
      ]
     },
     "execution_count": 24,
     "metadata": {},
     "output_type": "execute_result"
    }
   ],
   "source": [
    "def age_find(age):\n",
    "   count = 0\n",
    "   for i in n:\n",
    "      \n",
    "      age = i[11:13]\n",
    "      if int(age)>=60:\n",
    "          count+=1  \n",
    "      elif int(age)<60:\n",
    "          count +=0\n",
    "   return count \n",
    "\n",
    "n = input().split()\n",
    "age_find(n)    "
   ]
  },
  {
   "cell_type": "code",
   "execution_count": 6,
   "metadata": {},
   "outputs": [
    {
     "name": "stdout",
     "output_type": "stream",
     "text": [
      "[1, 2]\n"
     ]
    }
   ],
   "source": [
    "def two_sum(a,target):\n",
    "\n",
    "   for i in range(len(a)+1):\n",
    "      for j in range(i+1,len(a)):\n",
    "\n",
    "        if a[i]+a[j] == target:\n",
    "            return [i+1,j+1]\n",
    "\n",
    "a = [2,7,11,15]\n",
    "target = int(input())        \n",
    "print(two_sum(a,target))\n",
    "\n",
    "    "
   ]
  },
  {
   "cell_type": "code",
   "execution_count": 8,
   "metadata": {},
   "outputs": [
    {
     "name": "stdout",
     "output_type": "stream",
     "text": [
      "[2, 4]\n"
     ]
    }
   ],
   "source": [
    "def twoSum(numbers, target):\n",
    "    left, right = 0, len(numbers) - 1\n",
    "    \n",
    "    while left < right:\n",
    "        current_sum = numbers[left] + numbers[right]\n",
    "        \n",
    "        if current_sum == target:\n",
    "            return [left + 1, right + 1]  # return 1-indexed positions\n",
    "        elif current_sum < target:\n",
    "            left += 1\n",
    "        else:\n",
    "            right -= 1\n",
    "numbers = list(map(int, input().split()))\n",
    "target = int(input())\n",
    "print(twoSum(numbers,target))"
   ]
  },
  {
   "cell_type": "code",
   "execution_count": 26,
   "metadata": {},
   "outputs": [
    {
     "name": "stdout",
     "output_type": "stream",
     "text": [
      "1\n"
     ]
    }
   ],
   "source": [
    "class Solution:\n",
    "    def countSeniors(self, details):\n",
    "        return sum(int(detail[11:13]) > 60 for detail in details)\n",
    "    \n",
    "details = input().split()\n",
    "a = Solution()\n",
    "print(a.countSeniors(details))   \n"
   ]
  },
  {
   "cell_type": "code",
   "execution_count": 4,
   "metadata": {},
   "outputs": [
    {
     "name": "stdout",
     "output_type": "stream",
     "text": [
      "bab\n"
     ]
    }
   ],
   "source": [
    "def longestPalindrome(s):\n",
    "    def expandAroundCenter(s, left, right):\n",
    "        while left >= 0 and right < len(s) and s[left] == s[right]:\n",
    "            left -= 1\n",
    "            right += 1\n",
    "        return s[left + 1:right]\n",
    "    if len(s) == 0:\n",
    "        return \"\"\n",
    "    longest = \"\"\n",
    "    for i in range(len(s)):\n",
    "        # Odd length palindromes\n",
    "        odd_palindrome = expandAroundCenter(s, i, i)\n",
    "        # Even length palindromes\n",
    "        even_palindrome = expandAroundCenter(s, i, i + 1)\n",
    "        # Update the longest palindrome found\n",
    "        longest = max(longest, odd_palindrome, even_palindrome,key=len)\n",
    "    return longest\n",
    "s = 'babad'\n",
    "print(longestPalindrome(s))"
   ]
  },
  {
   "cell_type": "code",
   "execution_count": 12,
   "metadata": {},
   "outputs": [
    {
     "name": "stdout",
     "output_type": "stream",
     "text": [
      "1\n"
     ]
    }
   ],
   "source": [
    "def majority_element(nums):\n",
    "    res,count = 0,0\n",
    "    for n in nums:\n",
    "        if count==0:\n",
    "            res = n \n",
    "        count += (1 if n==res else -1)\n",
    "    return res\n",
    "\n",
    "\n",
    "nums = [int(x) for x in str(input())]\n",
    "print(majority_element(nums))\n"
   ]
  },
  {
   "cell_type": "code",
   "execution_count": 9,
   "metadata": {},
   "outputs": [
    {
     "name": "stdout",
     "output_type": "stream",
     "text": [
      "2\n"
     ]
    }
   ],
   "source": [
    "from collections import Counter\n",
    "def majority_element(nums):\n",
    "    num = Counter(nums)\n",
    "    return max(num,key=num.get)\n",
    "\n",
    "nums = [5,5,4,3,2,2,2,8]\n",
    "print(majority_element(nums))"
   ]
  },
  {
   "cell_type": "code",
   "execution_count": null,
   "metadata": {},
   "outputs": [],
   "source": [
    "def islandPerimeter(grid):\n",
    "    perimeter = 0\n",
    "    \n",
    "    rows = len(grid)\n",
    "    cols = len(grid[0])\n",
    "    \n",
    "    for r in range(rows):\n",
    "        for c in range(cols):\n",
    "            if grid[r][c] == 1:\n",
    "                perimeter += 4\n",
    "                \n",
    "                # Subtract 2 for each neighboring land cell\n",
    "                if r > 0 and grid[r - 1][c] == 1:\n",
    "                    perimeter -= 2\n",
    "                if c > 0 and grid[r][c - 1] == 1:\n",
    "                    perimeter -= 2\n",
    "    \n",
    "    return perimeter\n",
    "    \n",
    "grid = [\n",
    "  [0, 1, 0, 0],\n",
    "  [1, 1, 1, 0],\n",
    "  [0, 1, 0, 0],\n",
    "  [1, 1, 0, 0]\n",
    "]\n",
    "print(islandPerimeter(grid))"
   ]
  }
 ],
 "metadata": {
  "kernelspec": {
   "display_name": "Python 3",
   "language": "python",
   "name": "python3"
  },
  "language_info": {
   "codemirror_mode": {
    "name": "ipython",
    "version": 3
   },
   "file_extension": ".py",
   "mimetype": "text/x-python",
   "name": "python",
   "nbconvert_exporter": "python",
   "pygments_lexer": "ipython3",
   "version": "3.12.4"
  }
 },
 "nbformat": 4,
 "nbformat_minor": 2
}

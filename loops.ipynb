{
 "cells": [
  {
   "cell_type": "code",
   "execution_count": 5,
   "metadata": {},
   "outputs": [],
   "source": [
    "s = \"Hi There\""
   ]
  },
  {
   "cell_type": "code",
   "execution_count": 6,
   "metadata": {},
   "outputs": [
    {
     "name": "stdout",
     "output_type": "stream",
     "text": [
      "H\n",
      "i\n",
      " \n",
      "T\n",
      "h\n",
      "e\n",
      "r\n",
      "e\n"
     ]
    }
   ],
   "source": [
    "for i in s:\n",
    "    print(i)"
   ]
  },
  {
   "cell_type": "code",
   "execution_count": 12,
   "metadata": {},
   "outputs": [],
   "source": [
    "list1 =[2,4,6,8,10]\n",
    "for num in list1:\n",
    "    if num % 2 == 0:\n",
    "        print(num)  \n",
    "    else:\n",
    "        break"
   ]
  },
  {
   "cell_type": "code",
   "execution_count": 13,
   "metadata": {},
   "outputs": [
    {
     "name": "stdout",
     "output_type": "stream",
     "text": [
      "30\n"
     ]
    }
   ],
   "source": [
    "list_sum = 0 \n",
    "list1=[1,2,3,4,5,6,7,8,9,10]\n",
    "for num in list1:\n",
    "    list_sum = list_sum + num\n",
    "\n",
    "print(list_sum)"
   ]
  },
  {
   "cell_type": "code",
   "execution_count": 58,
   "metadata": {},
   "outputs": [
    {
     "name": "stdout",
     "output_type": "stream",
     "text": [
      "h\n"
     ]
    }
   ],
   "source": [
    "s = \"hi there\"\n",
    "\n",
    "for i in s:\n",
    "    if i=='r':\n",
    "        print(\"Find\")\n",
    "        \n",
    "    else:\n",
    "        print(i)\n",
    "        break\n",
    "        \n",
    "    "
   ]
  },
  {
   "cell_type": "code",
   "execution_count": null,
   "metadata": {},
   "outputs": [],
   "source": [
    "L = [1,2,3]"
   ]
  },
  {
   "cell_type": "code",
   "execution_count": 11,
   "metadata": {},
   "outputs": [
    {
     "name": "stdout",
     "output_type": "stream",
     "text": [
      "55\n"
     ]
    }
   ],
   "source": [
    "list_sum = 0 \n",
    "list1 = [1,2,3,4,5,6,7,8,9,10]\n",
    "for num in list1:\n",
    "    list_sum += num\n",
    "\n",
    "print(list_sum)"
   ]
  },
  {
   "cell_type": "code",
   "execution_count": 1,
   "metadata": {},
   "outputs": [
    {
     "name": "stdout",
     "output_type": "stream",
     "text": [
      "0\n",
      "1\n",
      "2\n",
      "3\n",
      "4\n"
     ]
    }
   ],
   "source": [
    "i = 0 \n",
    "while i<5:\n",
    "    print(i)\n",
    "    i =i+1"
   ]
  },
  {
   "cell_type": "code",
   "execution_count": 8,
   "metadata": {},
   "outputs": [
    {
     "name": "stdout",
     "output_type": "stream",
     "text": [
      "h\n",
      "i\n",
      " \n",
      "t\n",
      "h\n",
      "e\n",
      "r\n",
      "e\n"
     ]
    }
   ],
   "source": [
    "s = \"hi there\"\n",
    "for i in s:\n",
    "    print(i)"
   ]
  },
  {
   "cell_type": "code",
   "execution_count": 17,
   "metadata": {},
   "outputs": [
    {
     "name": "stdout",
     "output_type": "stream",
     "text": [
      "h\n",
      "i\n",
      " \n",
      "t\n",
      "h\n",
      "e\n",
      "r\n",
      "e\n"
     ]
    }
   ],
   "source": [
    "s = \"hi there\"\n",
    "i =0\n",
    "while i<len(s):\n",
    "    print(s[i])\n",
    "    i += 1\n",
    "    "
   ]
  },
  {
   "cell_type": "code",
   "execution_count": 18,
   "metadata": {},
   "outputs": [
    {
     "name": "stdout",
     "output_type": "stream",
     "text": [
      "1\n",
      "hi\n",
      "2\n",
      "7\n"
     ]
    }
   ],
   "source": [
    "l = [1,'hi',2,7]\n",
    "i =0\n",
    "while i<len(l):\n",
    "    print(l[i])\n",
    "    i +=1"
   ]
  },
  {
   "cell_type": "code",
   "execution_count": 19,
   "metadata": {},
   "outputs": [
    {
     "name": "stdout",
     "output_type": "stream",
     "text": [
      "1\n",
      "hi\n",
      "2\n",
      "7\n"
     ]
    }
   ],
   "source": [
    "l =[1,'hi',2,7]\n",
    "for i in l:\n",
    "    print(i)"
   ]
  },
  {
   "cell_type": "code",
   "execution_count": 24,
   "metadata": {},
   "outputs": [
    {
     "name": "stdout",
     "output_type": "stream",
     "text": [
      "1\n",
      "hi\n",
      "2\n",
      "7\n"
     ]
    }
   ],
   "source": [
    "l =[1,'hi',2,7]\n",
    "for i in range(len(l)):\n",
    "    print(l[i])"
   ]
  },
  {
   "cell_type": "code",
   "execution_count": 3,
   "metadata": {},
   "outputs": [
    {
     "name": "stdout",
     "output_type": "stream",
     "text": [
      "1\n"
     ]
    }
   ],
   "source": [
    "a =153\n",
    "b = a//100\n",
    "print(b)"
   ]
  },
  {
   "cell_type": "code",
   "execution_count": 12,
   "metadata": {},
   "outputs": [
    {
     "name": "stdout",
     "output_type": "stream",
     "text": [
      "0\n",
      "1\n",
      "2\n",
      "3\n",
      "4\n",
      "5\n",
      "6\n",
      "7\n",
      "8\n",
      "9\n",
      "153\n",
      "370\n",
      "371\n",
      "407\n"
     ]
    }
   ],
   "source": [
    "for i in range(1001):\n",
    "    num = i\n",
    "    result =0\n",
    "    n = len(str(i))\n",
    "    while(i!=0):\n",
    "        digit = i%10\n",
    "        result = result+digit**n\n",
    "        i =i//10\n",
    "    if num==result:\n",
    "        print(result)"
   ]
  },
  {
   "cell_type": "code",
   "execution_count": 81,
   "metadata": {},
   "outputs": [
    {
     "name": "stdout",
     "output_type": "stream",
     "text": [
      "1\n",
      "12\n",
      "123\n",
      "1234\n"
     ]
    }
   ],
   "source": [
    "n = int(input(\"enter the number:\"))\n",
    "\n",
    "for i in range(1,n+1,):\n",
    "    \n",
    "    for j in range(1,i+1):\n",
    "        print(j,end=\"\")\n",
    "    print()    "
   ]
  },
  {
   "cell_type": "code",
   "execution_count": 34,
   "metadata": {},
   "outputs": [
    {
     "name": "stdout",
     "output_type": "stream",
     "text": [
      "*    \n",
      "**   \n",
      "* *  \n",
      "*  * \n",
      "*****\n"
     ]
    }
   ],
   "source": [
    "n = int(input(\"enter the number:\"))\n",
    "for row in range(n):\n",
    "    for col in range(n):\n",
    "        if col==0 or row == (n-1) or row==col:\n",
    "            print(\"*\",end=\"\")\n",
    "        else:\n",
    "            print(end=\" \")\n",
    "    print()        "
   ]
  },
  {
   "cell_type": "code",
   "execution_count": 38,
   "metadata": {},
   "outputs": [
    {
     "name": "stdout",
     "output_type": "stream",
     "text": [
      "factorial of 10 is 3628800\n"
     ]
    }
   ],
   "source": [
    "import math\n",
    "n = int(input(\"Enter the number:\"))\n",
    "result = math.factorial(n)\n",
    "print(\"factorial of\",n,\"is\",result)\n"
   ]
  },
  {
   "cell_type": "code",
   "execution_count": 39,
   "metadata": {},
   "outputs": [
    {
     "name": "stdout",
     "output_type": "stream",
     "text": [
      "*****\n",
      " *  *\n",
      "  * *\n",
      "   **\n",
      "    *\n"
     ]
    }
   ],
   "source": [
    "n = int(input(\"Enter the Number:\"))\n",
    "for row in range(n):\n",
    "    for col in range(n):\n",
    "        if row==0 or row==col or col==4:\n",
    "            print(\"*\",end=\"\")\n",
    "        else:\n",
    "            print(end=\" \") \n",
    "    print()           "
   ]
  },
  {
   "cell_type": "code",
   "execution_count": 82,
   "metadata": {},
   "outputs": [
    {
     "name": "stdout",
     "output_type": "stream",
     "text": [
      "1 \n",
      "2 3 \n",
      "4 5 6 \n",
      "7 8 9 10 \n"
     ]
    }
   ],
   "source": [
    "n = int(input(\"Enter the number:\"))\n",
    "num = 1\n",
    "for row in range(1,n+1):\n",
    "    for col in range(1,row+1):\n",
    "        print(num,end=\" \")\n",
    "        num = num+1\n",
    "    print()\n"
   ]
  },
  {
   "cell_type": "code",
   "execution_count": 2,
   "metadata": {},
   "outputs": [
    {
     "name": "stdout",
     "output_type": "stream",
     "text": [
      "1\n",
      "2\n",
      "3\n",
      "5\n",
      "8\n",
      "13\n",
      "21\n",
      "34\n",
      "55\n",
      "89\n"
     ]
    }
   ],
   "source": [
    "n = int(input(\"Enter the nuber:\"))\n",
    "first = 0\n",
    "second = 1\n",
    "for i in range(n):\n",
    "    temp = first\n",
    "    first = second\n",
    "    second = temp+first\n",
    "    print(second)"
   ]
  },
  {
   "cell_type": "code",
   "execution_count": 3,
   "metadata": {},
   "outputs": [
    {
     "name": "stdout",
     "output_type": "stream",
     "text": [
      "[10, 2.7, 'A', 'hi']\n"
     ]
    }
   ],
   "source": [
    "l =[10,2.7,'A','hi']\n",
    "print(l[:4])"
   ]
  },
  {
   "cell_type": "code",
   "execution_count": 1,
   "metadata": {},
   "outputs": [
    {
     "name": "stdout",
     "output_type": "stream",
     "text": [
      "Result of adding 5 and 6 is: 11\n"
     ]
    }
   ],
   "source": [
    "def add(a,b):\n",
    "    add_num = a+b\n",
    "    return add_num\n",
    "n1 = int(input(\"Enter the n1:\"))\n",
    "n2 = int(input(\"Enter the n2:\"))\n",
    "total = add(n1,n2)\n",
    "print(\"Result of adding\",n1,\"and\",n2,\"is:\",total)"
   ]
  },
  {
   "cell_type": "code",
   "execution_count": 16,
   "metadata": {},
   "outputs": [
    {
     "name": "stdout",
     "output_type": "stream",
     "text": [
      "11 is a prime number\n"
     ]
    }
   ],
   "source": [
    "num = int(input(\"Enter the positive number to check its prime or not:\"))\n",
    "if num>1:\n",
    "    for i in range(2,num):\n",
    "        if num%i ==0:\n",
    "            print(num,\"is not a prime number\")\n",
    "            break\n",
    "        else:\n",
    "         print(num,\"is a prime number\") \n",
    "         break\n",
    "      \n",
    "else:\n",
    "    print(num,\"is not a prime number\")              "
   ]
  },
  {
   "cell_type": "code",
   "execution_count": 24,
   "metadata": {},
   "outputs": [
    {
     "name": "stdout",
     "output_type": "stream",
     "text": [
      "kxnxshk \n"
     ]
    }
   ],
   "source": [
    "def replace_x(word):\n",
    "    vowels = \"aeiouAEIOU\"\n",
    "    result = ''\n",
    "    for char in word:\n",
    "        if char in vowels:\n",
    "            result += \"x\"\n",
    "        else:\n",
    "            result += char\n",
    "\n",
    "\n",
    "    return result        \n",
    "\n",
    "word = 'kanishk '\n",
    "result = replace_x(word)\n",
    "print(result)            \n",
    "                "
   ]
  },
  {
   "cell_type": "code",
   "execution_count": 44,
   "metadata": {},
   "outputs": [
    {
     "name": "stdout",
     "output_type": "stream",
     "text": [
      "None\n"
     ]
    }
   ],
   "source": [
    "def third_max(nums):\n",
    "    distinct_nums = list(set(nums))\n",
    "    distinct_nums.sort(reverse=True)\n",
    "    if len(distinct_nums)>=6:\n",
    "        return distinct_nums[-1]\n",
    "    else:\n",
    "        return distinct_nums[0]\n",
    "    \n",
    "\n",
    "nums =[89,45,67,34,56,72]\n",
    "result = third_max(nums)\n",
    "print(result)    \n"
   ]
  },
  {
   "cell_type": "code",
   "execution_count": 23,
   "metadata": {},
   "outputs": [
    {
     "name": "stdout",
     "output_type": "stream",
     "text": [
      "[2, 4, 6]\n"
     ]
    }
   ],
   "source": [
    "\n",
    "def check_even_list(num_list):\n",
    "    # Go through each number\n",
    "    for number in num_list:\n",
    "        # Once we get a \"hit\" on an even number, we return True\n",
    "        if number % 2 == 0: \n",
    "           result.append(number)\n",
    "          \n",
    "           \n",
    "           \n",
    "            \n",
    "            \n",
    "             \n",
    "        # Otherwise we don't do anything\n",
    "        else:\n",
    "            pass\n",
    "num = [1,2,3,4,5,6]\n",
    "result=[]\n",
    "check_even_list(num)\n",
    "print(result)\n",
    "\n"
   ]
  },
  {
   "cell_type": "code",
   "execution_count": 10,
   "metadata": {},
   "outputs": [
    {
     "name": "stdout",
     "output_type": "stream",
     "text": [
      "[2, 4, 6, 8, 10]\n"
     ]
    }
   ],
   "source": [
    "# Define a function that doubles a number\n",
    "def double(n):\n",
    "    return n * 2\n",
    "\n",
    "# Create a list of numbers\n",
    "numbers = [1, 2, 3, 4, 5]\n",
    "\n",
    "# Use map to apply the double function to each item in the numbers list\n",
    "doubled_numbers = map(double, numbers)\n",
    "\n",
    "# Convert the map object to a list and print it\n",
    "print(list(doubled_numbers))\n"
   ]
  },
  {
   "cell_type": "code",
   "execution_count": 9,
   "metadata": {},
   "outputs": [
    {
     "data": {
      "text/plain": [
       "10000"
      ]
     },
     "execution_count": 9,
     "metadata": {},
     "output_type": "execute_result"
    }
   ],
   "source": [
    "def myfunc(a,b):\n",
    "    return sum((a,b))**2\n",
    "\n",
    "myfunc(40,60)"
   ]
  },
  {
   "cell_type": "code",
   "execution_count": 15,
   "metadata": {},
   "outputs": [
    {
     "data": {
      "text/plain": [
       "240"
      ]
     },
     "execution_count": 15,
     "metadata": {},
     "output_type": "execute_result"
    }
   ],
   "source": [
    "def myfunc(*args):\n",
    "    return sum(args)*2\n",
    "\n",
    "myfunc(40,60,20)\n"
   ]
  },
  {
   "cell_type": "code",
   "execution_count": 29,
   "metadata": {},
   "outputs": [
    {
     "name": "stdout",
     "output_type": "stream",
     "text": [
      "Positional Argument 1: 1\n",
      "Positional Argument 2: 2\n",
      "Keyword Argument 1: 3\n",
      "Keyword Argument 2: 4\n",
      "Arbitrary Positional Arguments: (5, 6)\n",
      "Arbitrary Keyword Arguments: {'a': 'hi', 'name': 'Alice', 'age': 10}\n"
     ]
    }
   ],
   "source": [
    "\n",
    "def show_arguments(pos1, pos2, kw1=4, kw2='default', *args, **kwargs):\n",
    "    print(f\"Positional Argument 1: {pos1}\")\n",
    "    print(f\"Positional Argument 2: {pos2}\")\n",
    "    print(f\"Keyword Argument 1: {kw1}\")\n",
    "    print(f\"Keyword Argument 2: {kw2}\")\n",
    "    print(f\"Arbitrary Positional Arguments: {args}\")\n",
    "    print(f\"Arbitrary Keyword Arguments: {kwargs}\")\n",
    "\n",
    "# Calling the function with different types of arguments\n",
    "show_arguments(1, 2,3, 4, 5, 6, a='hi', name=\"Alice\", age=10)\n",
    "\n"
   ]
  },
  {
   "cell_type": "code",
   "execution_count": 1,
   "metadata": {},
   "outputs": [
    {
     "data": {
      "text/plain": [
       "[32.0, 72.5, 104.0, 212.0]"
      ]
     },
     "execution_count": 1,
     "metadata": {},
     "output_type": "execute_result"
    }
   ],
   "source": [
    "def fahrenheit(celsius):\n",
    "    return (9/5)*celsius + 32\n",
    "    \n",
    "temps = [0, 22.5, 40, 100]\n",
    "\n",
    "F_temps = map(fahrenheit, temps)\n",
    "\n",
    "#Show\n",
    "list(F_temps)"
   ]
  },
  {
   "cell_type": "code",
   "execution_count": 3,
   "metadata": {},
   "outputs": [
    {
     "data": {
      "text/plain": [
       "47"
      ]
     },
     "execution_count": 3,
     "metadata": {},
     "output_type": "execute_result"
    }
   ],
   "source": [
    "from functools import reduce\n",
    "lst =[47,11,42,13]\n",
    "max_find = lambda a,b: a if (a > b) else b\n",
    "\n",
    "reduce(max_find,lst)"
   ]
  },
  {
   "cell_type": "code",
   "execution_count": 2,
   "metadata": {},
   "outputs": [
    {
     "data": {
      "text/plain": [
       "[(1, 4), (2, 5)]"
      ]
     },
     "execution_count": 2,
     "metadata": {},
     "output_type": "execute_result"
    }
   ],
   "source": [
    "d1 = {'a':1,'b':2}\n",
    "d2 = {'c':4,'d':5}\n",
    "\n",
    "list(zip(d1,d2))\n",
    "\n",
    "list(zip(d1.values(),d2.values()))"
   ]
  },
  {
   "cell_type": "code",
   "execution_count": 10,
   "metadata": {},
   "outputs": [
    {
     "data": {
      "text/plain": [
       "{'a': 4, 'b': 5}"
      ]
     },
     "execution_count": 10,
     "metadata": {},
     "output_type": "execute_result"
    }
   ],
   "source": [
    "d1 = {'a':1,'b':2}\n",
    "d2 = {'c':4,'d':5}\n",
    "\n",
    "def switcharoo(d1,d2):\n",
    "    dout = {}\n",
    "\n",
    "    for d1key,d2val in zip(d1,d2.values()):\n",
    "        dout[d1key] = d2val\n",
    "\n",
    "    return dout\n",
    "\n",
    "switcharoo(d1,d2)    \n",
    "    \n"
   ]
  },
  {
   "cell_type": "code",
   "execution_count": 34,
   "metadata": {},
   "outputs": [
    {
     "name": "stdout",
     "output_type": "stream",
     "text": [
      "{'a': 4, 'b': 5}\n"
     ]
    }
   ],
   "source": [
    "d1 = {'a':1,'b':2}\n",
    "d2 = {'c':4,'d':5}\n",
    "\n",
    "\n",
    "def switcharoo(**kwargs):\n",
    "    dout = {}\n",
    "    \n",
    "    for d1key,d2val in zip(d1,d2.values()):\n",
    "        dout[d1key] = d2val\n",
    "    \n",
    "    return dout\n",
    "din = (switcharoo(j=d1,n=d2))\n",
    "print(din)"
   ]
  },
  {
   "cell_type": "code",
   "execution_count": 38,
   "metadata": {},
   "outputs": [
    {
     "name": "stdout",
     "output_type": "stream",
     "text": [
      "None\n"
     ]
    }
   ],
   "source": [
    "nums = [2, 7, 11, 15]\n",
    "target = 11\n",
    "\n",
    "class Solution:\n",
    "    def twoSum(self, nums: list[int], target: int) -> list[int]:\n",
    "        tmp = [(num, idx) for idx, num in enumerate(nums)]\n",
    "        tmp.sort(key=lambda x: x[0])\n",
    "        \n",
    "        left, right = 0, len(tmp) - 1\n",
    "        \n",
    "        while left < right:\n",
    "            cur = tmp[right][0] + tmp[left][0]\n",
    "            if cur == target:\n",
    "                return [tmp[right][1], tmp[left][1]]\n",
    "            elif cur > target:\n",
    "                right -= 1\n",
    "            else:\n",
    "                left += 1\n",
    "\n",
    "# Example usage\n",
    "solution = Solution()\n",
    "result = solution.twoSum(nums, target)\n",
    "print(result)\n"
   ]
  },
  {
   "cell_type": "code",
   "execution_count": 45,
   "metadata": {},
   "outputs": [
    {
     "name": "stdout",
     "output_type": "stream",
     "text": [
      "[5, 4, 3, 2, 1]\n"
     ]
    }
   ],
   "source": [
    "def rev_num(nums):\n",
    "    replace_num = list(set(nums))\n",
    "    replace_num.sort(reverse=True)\n",
    "\n",
    "    return replace_num\n",
    "\n",
    "nums = [1,2,3,4,5]\n",
    "result = rev_num(nums)\n",
    "print(result)\n"
   ]
  },
  {
   "cell_type": "code",
   "execution_count": 46,
   "metadata": {},
   "outputs": [
    {
     "name": "stdout",
     "output_type": "stream",
     "text": [
      "12\n"
     ]
    }
   ],
   "source": [
    "newList = [12, 35, 9, 56, 24]\n",
    "temp = newList[0]\n",
    "print(temp)"
   ]
  },
  {
   "cell_type": "code",
   "execution_count": 48,
   "metadata": {},
   "outputs": [
    {
     "name": "stdout",
     "output_type": "stream",
     "text": [
      "[78, 24, 36, 55, 42]\n"
     ]
    }
   ],
   "source": [
    "def swaplist(newlist):\n",
    "    size = len(newlist)\n",
    "    temp = newlist[0]\n",
    "    newlist[0] = newlist[size-1]\n",
    "    newlist[size-1] = temp\n",
    "    return newlist\n",
    "newlist = [42,24,36,55,78]\n",
    "result = swaplist(newlist) \n",
    "print(newlist)   "
   ]
  },
  {
   "cell_type": "code",
   "execution_count": 80,
   "metadata": {},
   "outputs": [
    {
     "name": "stdout",
     "output_type": "stream",
     "text": [
      "length of first word: 5\n",
      "length of last word: 5\n"
     ]
    }
   ],
   "source": [
    "class Solution:\n",
    "    def lengthOfLastWord(self, s):\n",
    "\n",
    "        arr = s.split(\" \")\n",
    "        \n",
    "        ans = arr[-1]\n",
    "        return len(ans)\n",
    "    def lengthOfFirstWord(self, f):\n",
    "\n",
    "        arr = f.split(\" \")\n",
    "        \n",
    "        ans1 = arr[0]\n",
    "        return len(ans1)\n",
    "        \n",
    "# Example usage\n",
    "a= input(\"Enter the text:\")\n",
    "solution = Solution()\n",
    "result = solution.lengthOfLastWord(a)\n",
    "result1 = solution.lengthOfFirstWord(a)\n",
    "print(\"length of first word:\",result1)\n",
    "print(\"length of last word:\",result)\n"
   ]
  },
  {
   "cell_type": "code",
   "execution_count": 6,
   "metadata": {},
   "outputs": [
    {
     "name": "stdout",
     "output_type": "stream",
     "text": [
      "Red Ford Mustang\n",
      "Blue Toyota Prius\n",
      "Green Volkswagen Golf\n"
     ]
    }
   ],
   "source": [
    "class Car:\n",
    "    def info(self,name,Brand,color):\n",
    "        self.name = name\n",
    "        self.Brand = Brand\n",
    "        self.color = color\n",
    "\n",
    "car_1 = Car()\n",
    "car_1.info(\"Ford\",\"Mustang\",\"Red\")\n",
    "print (car_1.color,car_1.name,car_1.Brand)\n",
    "\n",
    "car_2 = Car()\n",
    "car_2.info(\"Toyota\",\"Prius\",\"Blue\")\n",
    "print (car_2.color,car_2.name,car_2.Brand)\n",
    "\n",
    "car_3 = Car()\n",
    "car_3.info(\"Volkswagen\",\"Golf\",\"Green\")\n",
    "print (car_3.color,car_3.name,car_3.Brand)\n"
   ]
  },
  {
   "cell_type": "code",
   "execution_count": 8,
   "metadata": {},
   "outputs": [
    {
     "name": "stdout",
     "output_type": "stream",
     "text": [
      "6\n",
      "28\n",
      "496\n",
      "8128\n"
     ]
    }
   ],
   "source": [
    "lower = int(input(\"Enter the lower number:\"))\n",
    "upper = int(input(\"Enter the upper number:\"))\n",
    "for num in range(lower,upper+1):\n",
    "    result = 0\n",
    "    for i in range(1,num):\n",
    "        if (num%i)==0:\n",
    "            result = result +i\n",
    "    if num==result:\n",
    "        print(num)\n"
   ]
  },
  {
   "cell_type": "code",
   "execution_count": 7,
   "metadata": {},
   "outputs": [
    {
     "name": "stdout",
     "output_type": "stream",
     "text": [
      "0\n",
      "a\n",
      "1\n",
      "b\n",
      "2\n",
      "c\n"
     ]
    }
   ],
   "source": [
    "lst = ['a','b','c']\n",
    "\n",
    "for number,item in enumerate(lst):\n",
    "    print(number)\n",
    "    print(item)"
   ]
  },
  {
   "cell_type": "code",
   "execution_count": 9,
   "metadata": {},
   "outputs": [
    {
     "name": "stdout",
     "output_type": "stream",
     "text": [
      "Constructor is executed 10\n",
      "10\n"
     ]
    }
   ],
   "source": [
    "class Test:\n",
    "    def __init__(self, num1): \n",
    "        # Constructor method to initialize the instance with a value\n",
    "        self.num1 = num1  # Assigning the value passed to the instance variable num1\n",
    "        print('Constructor is executed', self.num1)  # Printing a message along with the value\n",
    "\n",
    "    def fun(self):\n",
    "        # Method to print the value of num1\n",
    "        print(self.num1)  # Printing the value of the instance variable num1\n",
    "\n",
    "t = Test(10)  # Creating an instance of the Test class with the value 10\n",
    "t.fun()  # Calling the fun() method on the instance t\n"
   ]
  },
  {
   "cell_type": "code",
   "execution_count": 14,
   "metadata": {},
   "outputs": [
    {
     "name": "stdout",
     "output_type": "stream",
     "text": [
      "Name: guru prasath\n",
      "Age: 17\n",
      "Still wait to vote\n"
     ]
    }
   ],
   "source": [
    "p = input(\"Enter the name\")\n",
    "n = int(input(\"Enter the age:\"))\n",
    "class Student():\n",
    "    def __init__(self,name,age):\n",
    "        self.name = name\n",
    "        self.age = age\n",
    "    def vote_eligible(self):\n",
    "        if self.age>=18:\n",
    "            print(\"Eligible to vote\")\n",
    "        else:\n",
    "            print(\"Still wait to vote\")\n",
    "\n",
    "student = Student(p,n)\n",
    "print(\"Name:\",p)\n",
    "print(\"Age:\",n)\n",
    "student.vote_eligible()               \n"
   ]
  },
  {
   "cell_type": "code",
   "execution_count": 20,
   "metadata": {},
   "outputs": [
    {
     "name": "stdout",
     "output_type": "stream",
     "text": [
      "Radius is:  1\n",
      "Area is:  3.14\n",
      "Area is:  78.5\n",
      "Circumference is:  31.400000000000002\n",
      "Radius is:  2\n",
      "Area is:  12.56\n",
      "Circumference is:  12.56\n"
     ]
    }
   ],
   "source": [
    "class Circle:\n",
    "    # Class attribute for pi\n",
    "    pi = 3.14\n",
    "\n",
    "    # Circle gets instantiated with a radius (default is 1)\n",
    "    def __init__(self, radius=1):\n",
    "        # Instance attribute for radius\n",
    "        self.radius = radius \n",
    "        # Instance attribute for area\n",
    "        self.area = radius * radius * Circle.pi \n",
    "\n",
    "    # Method for resetting Radius\n",
    "    def setRadius(self, new_radius):\n",
    "        # Update the radius attribute\n",
    "        self.radius = new_radius\n",
    "        # Update the area attribute based on the new radius\n",
    "        self.area = new_radius * new_radius * self.pi\n",
    "\n",
    "    # Method for getting Circumference\n",
    "    def getCircumference(self):\n",
    "        # Calculate and return the circumference\n",
    "        return self.radius * self.pi * 2\n",
    "\n",
    "\n",
    "# Creating an instance of Circle with default radius\n",
    "c = Circle() \n",
    "\n",
    "# Printing initial radius and area\n",
    "print('Radius is: ', c.radius)\n",
    "print('Area is: ', c.area)\n",
    "\n",
    "# Setting a new radius and printing the updated area\n",
    "c.setRadius(5)\n",
    "print(\"Area is: \", c.area)\n",
    "\n",
    "# Printing the circumference\n",
    "print('Circumference is: ', c.getCircumference())\n",
    "\n",
    "# Setting another radius and printing the updated radius and area\n",
    "c.setRadius(2)\n",
    "print('Radius is: ', c.radius)\n",
    "print('Area is: ', c.area)\n",
    "\n",
    "# Printing the circumference\n",
    "print('Circumference is: ', c.getCircumference())"
   ]
  },
  {
   "cell_type": "code",
   "execution_count": 9,
   "metadata": {},
   "outputs": [
    {
     "name": "stdout",
     "output_type": "stream",
     "text": [
      "Area of rectangle: 430\n",
      "Perimeter of rectangle: 106\n"
     ]
    }
   ],
   "source": [
    "class Rectangle():\n",
    "    def __init__(self,length,width):\n",
    "        self.length = length\n",
    "        self.width = width\n",
    "    def area(self):\n",
    "        l = self.length\n",
    "        w = self.width\n",
    "        result = l*w\n",
    "        print(\"Area of rectangle:\",result)  \n",
    "    def perimeter(self):\n",
    "        l1 = self.length\n",
    "        w1 = self.width\n",
    "        result1 = (l1+w1)*2\n",
    "        print(\"Perimeter of rectangle:\",result1)\n",
    "\n",
    "length = int(input(\"Enter the length:\"))\n",
    "width = int(input(\"Enter the Width:\"))\n",
    "rectangle = Rectangle(length,width)\n",
    "rectangle.area()\n",
    "rectangle.perimeter()\n"
   ]
  },
  {
   "cell_type": "code",
   "execution_count": 15,
   "metadata": {},
   "outputs": [
    {
     "name": "stdout",
     "output_type": "stream",
     "text": [
      "Area of the Circle: 200\n",
      "Circumference of the circle: 50\n"
     ]
    }
   ],
   "source": [
    "import math\n",
    "class Circle():\n",
    "    pi = 3.14\n",
    "    def __init__(self,radius):\n",
    "        self.radius = radius\n",
    "    def area(self):\n",
    "        r = self.radius\n",
    "        b = 2\n",
    "        a = Circle.pi*(r**b)\n",
    "        print(\"Area of the Circle:\",math.floor(a))\n",
    "    def circumference(self):\n",
    "        r = self.radius\n",
    "        c = (2*Circle.pi)*r\n",
    "        print(\"Circumference of the circle:\",math.floor(c))\n",
    "radius = int(input(\"Enter the Radius:\"))\n",
    "circle = Circle(radius) \n",
    "circle.area()\n",
    "circle.circumference()\n",
    "\n"
   ]
  },
  {
   "cell_type": "code",
   "execution_count": 18,
   "metadata": {},
   "outputs": [],
   "source": [
    "class Employee():\n",
    "    def __init__(self,name,age,salary):\n",
    "        self.name = name\n",
    "        self.age  = age\n",
    "        self.salary = salary\n",
    "    def increase_salary(self,percentage_input):\n",
    "        percentage_input = input(\"Enter a percentage (e.g., 45%): \")\n",
    "        percentage = float(percentage_input.strip('%'))\n",
    "        if self.salary < percentage:\n",
    "            self.salary += percentage\n",
    "            print(percentage)\n",
    "\n",
    "employee = Employee(\"kanishk\",21,30000)\n",
    "employee.increase_salary(percentage_input=10)            \n",
    "\n"
   ]
  },
  {
   "cell_type": "code",
   "execution_count": 32,
   "metadata": {},
   "outputs": [
    {
     "name": "stdout",
     "output_type": "stream",
     "text": [
      "Name: Kanishk , Age: 21 , Salary: 50000\n",
      "Name: Kanishk , Age: 21 , Salary: 57000\n"
     ]
    }
   ],
   "source": [
    "import math\n",
    "class Employee:\n",
    "    def __init__(self, name, age, salary):\n",
    "        self.name = name\n",
    "        self.age = age\n",
    "        self.salary = salary\n",
    "        print(\"Name:\",self.name,\", Age:\",self.age,\", Salary:\",self.salary)\n",
    "    def increase_salary(self, percentage_increase):\n",
    "        increase_amount = self.salary * (percentage_increase / 100)\n",
    "        self.salary += increase_amount\n",
    "        print(\"Name:\",self.name,\", Age:\",self.age,\", Salary:\",math.floor(self.salary))\n",
    "percentage = int(input(\"Enter the percentage:\"))\n",
    "employee = Employee(\"Kanishk\", 21, 50000)\n",
    "employee.increase_salary(percentage) "
   ]
  },
  {
   "cell_type": "code",
   "execution_count": 4,
   "metadata": {},
   "outputs": [
    {
     "name": "stdout",
     "output_type": "stream",
     "text": [
      "Holder name: qgr\n",
      "Account number: 1234567\n",
      "Deposited amount: 5000\n",
      "Withdrawn money: 3000\n",
      "Balance: 22000\n"
     ]
    }
   ],
   "source": [
    "class BankAccount():\n",
    "    def __init__(self,account_number,holder_name,balance):\n",
    "        self.account_number = account_number\n",
    "        self.holder_name = holder_name\n",
    "        self.balance = balance\n",
    "        print(\"Holder name:\",self.holder_name)\n",
    "        print(\"Account number:\",self.account_number)\n",
    "       \n",
    "    def deposit(self,deposited_money):\n",
    "        self.deposited_money = deposited_money\n",
    "        increase_amount =  self.deposited_money\n",
    "        print(\"Deposited amount:\",increase_amount)\n",
    "    def withdraw(self,withdraw_amount):\n",
    "        decrease_amount =   withdraw_amount\n",
    "        print(\"Withdrawn money:\",decrease_amount)\n",
    "        decreas_amount =  (self.deposited_money+self.balance)- withdraw_amount\n",
    "        print(\"Balance:\",decreas_amount)\n",
    "account_number = int(input(\"Enter the account number:\"))\n",
    "holder_name = input(\"Enter the Holder name:\")\n",
    "balance = int(input(\"Enter the balance \"))\n",
    "bankaccount = BankAccount(account_number,holder_name,balance)\n",
    "deposited_money  = int(input(\"Enter the deposit money:\"))\n",
    "bankaccount.deposit(deposited_money)\n",
    "withdraw_amount = int(input(\"Enter the Withdrawal money:\"))\n",
    "bankaccount.withdraw(withdraw_amount)"
   ]
  },
  {
   "cell_type": "code",
   "execution_count": 1,
   "metadata": {},
   "outputs": [
    {
     "name": "stdout",
     "output_type": "stream",
     "text": [
      "Satyam 102\n",
      "Mayank 103\n",
      "Emp class called\n"
     ]
    }
   ],
   "source": [
    "class Person:\n",
    "# Constructor\n",
    "    def __init__(self, name, id):\n",
    "        self.name = name\n",
    "        self.id = id\n",
    "# To check if this person is an employee\n",
    "    def Display(self):\n",
    "        print(self.name, self.id)\n",
    "class Emp(Person):\n",
    "     def Print(self):\n",
    "         print(\"Emp class called\")\n",
    "# Driver code // Base class\n",
    "emp = Person(\"Satyam\", 102) # An Object of Person\n",
    "emp.Display()\n",
    "# Derivd code // Child class\n",
    "Emp_details = Emp(\"Mayank\", 103)\n",
    "# calling parent class function\n",
    "Emp_details.Display()\n",
    "# Calling child class function\n",
    "Emp_details.Print()"
   ]
  },
  {
   "cell_type": "code",
   "execution_count": 1,
   "metadata": {},
   "outputs": [
    {
     "ename": "ValueError",
     "evalue": "invalid literal for int() with base 10: 'g'",
     "output_type": "error",
     "traceback": [
      "\u001b[1;31m---------------------------------------------------------------------------\u001b[0m",
      "\u001b[1;31mValueError\u001b[0m                                Traceback (most recent call last)",
      "Cell \u001b[1;32mIn[1], line 1\u001b[0m\n\u001b[1;32m----> 1\u001b[0m \u001b[38;5;28;43mint\u001b[39;49m\u001b[43m(\u001b[49m\u001b[38;5;28;43minput\u001b[39;49m\u001b[43m(\u001b[49m\u001b[38;5;124;43m\"\u001b[39;49m\u001b[38;5;124;43mPlease 1st enter an integer: \u001b[39;49m\u001b[38;5;124;43m\"\u001b[39;49m\u001b[43m)\u001b[49m\u001b[43m)\u001b[49m\n",
      "\u001b[1;31mValueError\u001b[0m: invalid literal for int() with base 10: 'g'"
     ]
    }
   ],
   "source": [
    "int(input(\"Please 1st enter an integer: \"))"
   ]
  },
  {
   "cell_type": "code",
   "execution_count": 5,
   "metadata": {},
   "outputs": [
    {
     "ename": "ZeroDivisionError",
     "evalue": "division by zero",
     "output_type": "error",
     "traceback": [
      "\u001b[1;31m---------------------------------------------------------------------------\u001b[0m",
      "\u001b[1;31mZeroDivisionError\u001b[0m                         Traceback (most recent call last)",
      "Cell \u001b[1;32mIn[5], line 1\u001b[0m\n\u001b[1;32m----> 1\u001b[0m \u001b[38;5;241;43m4\u001b[39;49m\u001b[38;5;241;43m/\u001b[39;49m\u001b[38;5;241;43m0\u001b[39;49m\n",
      "\u001b[1;31mZeroDivisionError\u001b[0m: division by zero"
     ]
    }
   ],
   "source": [
    "4/0"
   ]
  },
  {
   "cell_type": "code",
   "execution_count": 6,
   "metadata": {},
   "outputs": [
    {
     "data": {
      "text/plain": [
       "0.0"
      ]
     },
     "execution_count": 6,
     "metadata": {},
     "output_type": "execute_result"
    }
   ],
   "source": [
    "0/4"
   ]
  },
  {
   "cell_type": "code",
   "execution_count": 4,
   "metadata": {},
   "outputs": [
    {
     "name": "stdout",
     "output_type": "stream",
     "text": [
      "Result:  1.25\n",
      "No exceptions detected\n",
      "I will always get executed\n"
     ]
    }
   ],
   "source": [
    "try:\n",
    "    val_1 = int(input(\"Please 1st enter an integer: \"))\n",
    "    val_2 = int(input(\"Please 2nd enter an integer: \"))\n",
    "    result = val_1/val_2\n",
    "    print(\"Result: \",result)\n",
    "except ValueError:\n",
    "    print(\"Looks like you did not enter an integer!\")\n",
    "except ZeroDivisionError:\n",
    "    print(\"abiwbgiuwbrg\")\n",
    "except:\n",
    "    print(\"No idea about the error\")\n",
    "else:\n",
    "    print(\"No exceptions detected\")\n",
    "finally:\n",
    "    print(\"I will always get executed\")"
   ]
  },
  {
   "cell_type": "code",
   "execution_count": 15,
   "metadata": {},
   "outputs": [],
   "source": [
    "def askint():\n",
    "    while True:\n",
    "        try:\n",
    "            val = int(input(\"Please enter an integer: \"))\n",
    "        except:\n",
    "            print(\"Looks like you did not enter an integer!\")\n",
    "            continue\n",
    "        else:\n",
    "            print(\"Yep that's an integer!\")\n",
    "            print(val)\n",
    "            break\n",
    "        finally:\n",
    "            print(\"Finally, I executed!\")\n",
    "askint()"
   ]
  },
  {
   "cell_type": "code",
   "execution_count": 5,
   "metadata": {},
   "outputs": [
    {
     "name": "stdout",
     "output_type": "stream",
     "text": [
      "1970 Chevy Cheville has started its engine.\n"
     ]
    }
   ],
   "source": [
    "class Car:\n",
    "    def __init__(self,model,year) -> None:\n",
    "        self.model = model\n",
    "        self.year = year\n",
    "    def start_engine(self):\n",
    "        print(self.year,self.model,\"has started its engine.\")\n",
    "\n",
    "car = Car(\"Chevy Cheville\",1970)\n",
    "car.start_engine()    \n",
    "\n",
    "        "
   ]
  },
  {
   "cell_type": "code",
   "execution_count": 1,
   "metadata": {},
   "outputs": [
    {
     "name": "stdout",
     "output_type": "stream",
     "text": [
      "9\n",
      "9\n"
     ]
    }
   ],
   "source": [
    "class Calculator:\n",
    "    def add(self, a, b):\n",
    "        return a + b\n",
    "    \n",
    "    def add(self, a, b, c):\n",
    "        return a + b + c\n",
    "\n",
    "calc = Calculator()\n",
    "print(calc.add(2, 3,4))       # throws error\n",
    "print(calc.add(2, 3,4))    # Output: 9"
   ]
  },
  {
   "cell_type": "code",
   "execution_count": 3,
   "metadata": {},
   "outputs": [
    {
     "name": "stdout",
     "output_type": "stream",
     "text": [
      "kanishk\n",
      "2/148h,Thirumoorthy nagar,poonganagar last,iyampalayam,Tirupur-641605.\n"
     ]
    }
   ],
   "source": [
    "class  Person:\n",
    "    def __init__(self,name,address):\n",
    "        self.name = name\n",
    "        self.address = address\n",
    "class Student(Person):\n",
    "    def student_id(self):\n",
    "        print(self.name)\n",
    "        print(self.address)\n",
    "name = input(\"Enter the student name:\")\n",
    "address = input(\"Enter the student address:\")\n",
    "person = Student(name,address)\n",
    "person.student_id()\n",
    "        \n",
    "\n"
   ]
  },
  {
   "cell_type": "code",
   "execution_count": 20,
   "metadata": {},
   "outputs": [
    {
     "name": "stdout",
     "output_type": "stream",
     "text": [
      "(20, 18)\n",
      "(12, 14)\n"
     ]
    }
   ],
   "source": [
    "class Shape():\n",
    "    def calculate_area(self,l,b):\n",
    "        self.l = l\n",
    "        self.b = b        \n",
    "class Rectangle(Shape):\n",
    "    def rec_area(self):\n",
    "       area1 = self.l*self.b\n",
    "       perimeter1 = (self.l+self.b)*2\n",
    "       return area1,perimeter1\n",
    "class Triangle(Shape):\n",
    "    def tri_area(self):\n",
    "        area = self.l*self.b\n",
    "        perimeter = (self.l+self.b)*2\n",
    "        return area,perimeter \n",
    "\n",
    "shape = Rectangle()\n",
    "shape.calculate_area(4,5)  \n",
    "a = shape.rec_area() \n",
    "print(a)\n",
    "shape = Triangle()\n",
    "shape.calculate_area(3,4)\n",
    "b = shape.tri_area()\n",
    "print(b)\n",
    "\n",
    "\n",
    "\n",
    "\n",
    "\n",
    "\n",
    "        \n"
   ]
  },
  {
   "cell_type": "code",
   "execution_count": null,
   "metadata": {},
   "outputs": [],
   "source": []
  },
  {
   "cell_type": "code",
   "execution_count": 14,
   "metadata": {},
   "outputs": [
    {
     "name": "stdout",
     "output_type": "stream",
     "text": [
      "Area: 20\n",
      "Perimeter: 18\n"
     ]
    }
   ],
   "source": [
    "class Shape:\n",
    "    def set_dimensions(self, l, b):\n",
    "        self.l = l\n",
    "        self.b = b\n",
    "        \n",
    "class Rectangle(Shape):\n",
    "    def rec_area(self):\n",
    "        area = self.l * self.b\n",
    "        perimeter = 2 * (self.l + self.b)\n",
    "        print(\"Area:\", area)\n",
    "        print(\"Perimeter:\", perimeter)\n",
    "\n",
    "shape = Rectangle()\n",
    "shape.set_dimensions(4, 5)\n",
    "shape.rec_area()\n"
   ]
  }
 ],
 "metadata": {
  "kernelspec": {
   "display_name": "Python 3",
   "language": "python",
   "name": "python3"
  },
  "language_info": {
   "codemirror_mode": {
    "name": "ipython",
    "version": 3
   },
   "file_extension": ".py",
   "mimetype": "text/x-python",
   "name": "python",
   "nbconvert_exporter": "python",
   "pygments_lexer": "ipython3",
   "version": "3.12.4"
  }
 },
 "nbformat": 4,
 "nbformat_minor": 2
}

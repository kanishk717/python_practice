{
 "cells": [
  {
   "cell_type": "code",
   "execution_count": 5,
   "metadata": {},
   "outputs": [],
   "source": [
    "s = \"Hi There\""
   ]
  },
  {
   "cell_type": "code",
   "execution_count": 6,
   "metadata": {},
   "outputs": [
    {
     "name": "stdout",
     "output_type": "stream",
     "text": [
      "H\n",
      "i\n",
      " \n",
      "T\n",
      "h\n",
      "e\n",
      "r\n",
      "e\n"
     ]
    }
   ],
   "source": [
    "for i in s:\n",
    "    print(i)"
   ]
  },
  {
   "cell_type": "code",
   "execution_count": 12,
   "metadata": {},
   "outputs": [],
   "source": [
    "list1 =[2,4,6,8,10]\n",
    "for num in list1:\n",
    "    if num % 2 == 0:\n",
    "        print(num)  \n",
    "    else:\n",
    "        break"
   ]
  },
  {
   "cell_type": "code",
   "execution_count": 13,
   "metadata": {},
   "outputs": [
    {
     "name": "stdout",
     "output_type": "stream",
     "text": [
      "30\n"
     ]
    }
   ],
   "source": [
    "list_sum = 0 \n",
    "list1=[1,2,3,4,5,6,7,8,9,10]\n",
    "for num in list1:\n",
    "    list_sum = list_sum + num\n",
    "\n",
    "print(list_sum)"
   ]
  },
  {
   "cell_type": "code",
   "execution_count": 58,
   "metadata": {},
   "outputs": [
    {
     "name": "stdout",
     "output_type": "stream",
     "text": [
      "h\n"
     ]
    }
   ],
   "source": [
    "s = \"hi there\"\n",
    "\n",
    "for i in s:\n",
    "    if i=='r':\n",
    "        print(\"Find\")\n",
    "        \n",
    "    else:\n",
    "        print(i)\n",
    "        break\n",
    "        \n",
    "    "
   ]
  },
  {
   "cell_type": "code",
   "execution_count": null,
   "metadata": {},
   "outputs": [],
   "source": [
    "L = [1,2,3]"
   ]
  },
  {
   "cell_type": "code",
   "execution_count": 11,
   "metadata": {},
   "outputs": [
    {
     "name": "stdout",
     "output_type": "stream",
     "text": [
      "55\n"
     ]
    }
   ],
   "source": [
    "list_sum = 0 \n",
    "list1 = [1,2,3,4,5,6,7,8,9,10]\n",
    "for num in list1:\n",
    "    list_sum += num\n",
    "\n",
    "print(list_sum)"
   ]
  },
  {
   "cell_type": "code",
   "execution_count": 1,
   "metadata": {},
   "outputs": [
    {
     "name": "stdout",
     "output_type": "stream",
     "text": [
      "0\n",
      "1\n",
      "2\n",
      "3\n",
      "4\n"
     ]
    }
   ],
   "source": [
    "i = 0 \n",
    "while i<5:\n",
    "    print(i)\n",
    "    i =i+1"
   ]
  },
  {
   "cell_type": "code",
   "execution_count": 8,
   "metadata": {},
   "outputs": [
    {
     "name": "stdout",
     "output_type": "stream",
     "text": [
      "h\n",
      "i\n",
      " \n",
      "t\n",
      "h\n",
      "e\n",
      "r\n",
      "e\n"
     ]
    }
   ],
   "source": [
    "s = \"hi there\"\n",
    "for i in s:\n",
    "    print(i)"
   ]
  },
  {
   "cell_type": "code",
   "execution_count": 17,
   "metadata": {},
   "outputs": [
    {
     "name": "stdout",
     "output_type": "stream",
     "text": [
      "h\n",
      "i\n",
      " \n",
      "t\n",
      "h\n",
      "e\n",
      "r\n",
      "e\n"
     ]
    }
   ],
   "source": [
    "s = \"hi there\"\n",
    "i =0\n",
    "while i<len(s):\n",
    "    print(s[i])\n",
    "    i += 1\n",
    "    "
   ]
  },
  {
   "cell_type": "code",
   "execution_count": 18,
   "metadata": {},
   "outputs": [
    {
     "name": "stdout",
     "output_type": "stream",
     "text": [
      "1\n",
      "hi\n",
      "2\n",
      "7\n"
     ]
    }
   ],
   "source": [
    "l = [1,'hi',2,7]\n",
    "i =0\n",
    "while i<len(l):\n",
    "    print(l[i])\n",
    "    i +=1"
   ]
  },
  {
   "cell_type": "code",
   "execution_count": 19,
   "metadata": {},
   "outputs": [
    {
     "name": "stdout",
     "output_type": "stream",
     "text": [
      "1\n",
      "hi\n",
      "2\n",
      "7\n"
     ]
    }
   ],
   "source": [
    "l =[1,'hi',2,7]\n",
    "for i in l:\n",
    "    print(i)"
   ]
  },
  {
   "cell_type": "code",
   "execution_count": 24,
   "metadata": {},
   "outputs": [
    {
     "name": "stdout",
     "output_type": "stream",
     "text": [
      "1\n",
      "hi\n",
      "2\n",
      "7\n"
     ]
    }
   ],
   "source": [
    "l =[1,'hi',2,7]\n",
    "for i in range(len(l)):\n",
    "    print(l[i])"
   ]
  },
  {
   "cell_type": "code",
   "execution_count": 3,
   "metadata": {},
   "outputs": [
    {
     "name": "stdout",
     "output_type": "stream",
     "text": [
      "1\n"
     ]
    }
   ],
   "source": [
    "a =153\n",
    "b = a//100\n",
    "print(b)"
   ]
  },
  {
   "cell_type": "code",
   "execution_count": 12,
   "metadata": {},
   "outputs": [
    {
     "name": "stdout",
     "output_type": "stream",
     "text": [
      "0\n",
      "1\n",
      "2\n",
      "3\n",
      "4\n",
      "5\n",
      "6\n",
      "7\n",
      "8\n",
      "9\n",
      "153\n",
      "370\n",
      "371\n",
      "407\n"
     ]
    }
   ],
   "source": [
    "for i in range(1001):\n",
    "    num = i\n",
    "    result =0\n",
    "    n = len(str(i))\n",
    "    while(i!=0):\n",
    "        digit = i%10\n",
    "        result = result+digit**n\n",
    "        i =i//10\n",
    "    if num==result:\n",
    "        print(result)"
   ]
  },
  {
   "cell_type": "code",
   "execution_count": 81,
   "metadata": {},
   "outputs": [
    {
     "name": "stdout",
     "output_type": "stream",
     "text": [
      "1\n",
      "12\n",
      "123\n",
      "1234\n"
     ]
    }
   ],
   "source": [
    "n = int(input(\"enter the number:\"))\n",
    "\n",
    "for i in range(1,n+1,):\n",
    "    \n",
    "    for j in range(1,i+1):\n",
    "        print(j,end=\"\")\n",
    "    print()    "
   ]
  },
  {
   "cell_type": "code",
   "execution_count": 34,
   "metadata": {},
   "outputs": [
    {
     "name": "stdout",
     "output_type": "stream",
     "text": [
      "*    \n",
      "**   \n",
      "* *  \n",
      "*  * \n",
      "*****\n"
     ]
    }
   ],
   "source": [
    "n = int(input(\"enter the number:\"))\n",
    "for row in range(n):\n",
    "    for col in range(n):\n",
    "        if col==0 or row == (n-1) or row==col:\n",
    "            print(\"*\",end=\"\")\n",
    "        else:\n",
    "            print(end=\" \")\n",
    "    print()        "
   ]
  },
  {
   "cell_type": "code",
   "execution_count": 38,
   "metadata": {},
   "outputs": [
    {
     "name": "stdout",
     "output_type": "stream",
     "text": [
      "factorial of 10 is 3628800\n"
     ]
    }
   ],
   "source": [
    "import math\n",
    "n = int(input(\"Enter the number:\"))\n",
    "result = math.factorial(n)\n",
    "print(\"factorial of\",n,\"is\",result)\n"
   ]
  },
  {
   "cell_type": "code",
   "execution_count": 39,
   "metadata": {},
   "outputs": [
    {
     "name": "stdout",
     "output_type": "stream",
     "text": [
      "*****\n",
      " *  *\n",
      "  * *\n",
      "   **\n",
      "    *\n"
     ]
    }
   ],
   "source": [
    "n = int(input(\"Enter the Number:\"))\n",
    "for row in range(n):\n",
    "    for col in range(n):\n",
    "        if row==0 or row==col or col==4:\n",
    "            print(\"*\",end=\"\")\n",
    "        else:\n",
    "            print(end=\" \") \n",
    "    print()           "
   ]
  },
  {
   "cell_type": "code",
   "execution_count": 82,
   "metadata": {},
   "outputs": [
    {
     "name": "stdout",
     "output_type": "stream",
     "text": [
      "1 \n",
      "2 3 \n",
      "4 5 6 \n",
      "7 8 9 10 \n"
     ]
    }
   ],
   "source": [
    "n = int(input(\"Enter the number:\"))\n",
    "num = 1\n",
    "for row in range(1,n+1):\n",
    "    for col in range(1,row+1):\n",
    "        print(num,end=\" \")\n",
    "        num = num+1\n",
    "    print()\n"
   ]
  },
  {
   "cell_type": "code",
   "execution_count": 89,
   "metadata": {},
   "outputs": [
    {
     "name": "stdout",
     "output_type": "stream",
     "text": [
      "1\n",
      "2\n",
      "3\n",
      "5\n",
      "8\n",
      "13\n",
      "21\n",
      "34\n",
      "55\n",
      "89\n",
      "144\n",
      "233\n",
      "377\n",
      "610\n",
      "987\n",
      "1597\n",
      "2584\n",
      "4181\n",
      "6765\n",
      "10946\n"
     ]
    }
   ],
   "source": [
    "n = int(input(\"Enter the nuber:\"))\n",
    "first = 0\n",
    "second = 1\n",
    "for i in range(n):\n",
    "    temp = first\n",
    "    first = second\n",
    "    second = temp+first\n",
    "    print(second)"
   ]
  },
  {
   "cell_type": "code",
   "execution_count": 3,
   "metadata": {},
   "outputs": [
    {
     "name": "stdout",
     "output_type": "stream",
     "text": [
      "[10, 2.7, 'A', 'hi']\n"
     ]
    }
   ],
   "source": [
    "l =[10,2.7,'A','hi']\n",
    "print(l[:4])"
   ]
  },
  {
   "cell_type": "code",
   "execution_count": 1,
   "metadata": {},
   "outputs": [
    {
     "name": "stdout",
     "output_type": "stream",
     "text": [
      "Result of adding 5 and 6 is: 11\n"
     ]
    }
   ],
   "source": [
    "def add(a,b):\n",
    "    add_num = a+b\n",
    "    return add_num\n",
    "n1 = int(input(\"Enter the n1:\"))\n",
    "n2 = int(input(\"Enter the n2:\"))\n",
    "total = add(n1,n2)\n",
    "print(\"Result of adding\",n1,\"and\",n2,\"is:\",total)"
   ]
  },
  {
   "cell_type": "code",
   "execution_count": 16,
   "metadata": {},
   "outputs": [
    {
     "name": "stdout",
     "output_type": "stream",
     "text": [
      "11 is a prime number\n"
     ]
    }
   ],
   "source": [
    "num = int(input(\"Enter the positive number to check its prime or not:\"))\n",
    "if num>1:\n",
    "    for i in range(2,num):\n",
    "        if num%i ==0:\n",
    "            print(num,\"is not a prime number\")\n",
    "            break\n",
    "        else:\n",
    "         print(num,\"is a prime number\") \n",
    "         break\n",
    "      \n",
    "else:\n",
    "    print(num,\"is not a prime number\")              "
   ]
  },
  {
   "cell_type": "code",
   "execution_count": 24,
   "metadata": {},
   "outputs": [
    {
     "name": "stdout",
     "output_type": "stream",
     "text": [
      "kxnxshk \n"
     ]
    }
   ],
   "source": [
    "def replace_x(word):\n",
    "    vowels = \"aeiouAEIOU\"\n",
    "    result = ''\n",
    "    for char in word:\n",
    "        if char in vowels:\n",
    "            result += \"x\"\n",
    "        else:\n",
    "            result += char\n",
    "\n",
    "\n",
    "    return result        \n",
    "\n",
    "word = 'kanishk '\n",
    "result = replace_x(word)\n",
    "print(result)            \n",
    "                "
   ]
  },
  {
   "cell_type": "code",
   "execution_count": 44,
   "metadata": {},
   "outputs": [
    {
     "name": "stdout",
     "output_type": "stream",
     "text": [
      "None\n"
     ]
    }
   ],
   "source": [
    "def third_max(nums):\n",
    "    distinct_nums = list(set(nums))\n",
    "    distinct_nums.sort(reverse=True)\n",
    "    if len(distinct_nums)>=6:\n",
    "        return distinct_nums[-1]\n",
    "    else:\n",
    "        return distinct_nums[0]\n",
    "    \n",
    "\n",
    "nums =[89,45,67,34,56,72]\n",
    "result = third_max(nums)\n",
    "print(result)    \n"
   ]
  },
  {
   "cell_type": "code",
   "execution_count": 23,
   "metadata": {},
   "outputs": [
    {
     "name": "stdout",
     "output_type": "stream",
     "text": [
      "[2, 4, 6]\n"
     ]
    }
   ],
   "source": [
    "\n",
    "def check_even_list(num_list):\n",
    "    # Go through each number\n",
    "    for number in num_list:\n",
    "        # Once we get a \"hit\" on an even number, we return True\n",
    "        if number % 2 == 0: \n",
    "           result.append(number)\n",
    "          \n",
    "           \n",
    "           \n",
    "            \n",
    "            \n",
    "             \n",
    "        # Otherwise we don't do anything\n",
    "        else:\n",
    "            pass\n",
    "num = [1,2,3,4,5,6]\n",
    "result=[]\n",
    "check_even_list(num)\n",
    "print(result)\n",
    "\n"
   ]
  },
  {
   "cell_type": "code",
   "execution_count": 10,
   "metadata": {},
   "outputs": [
    {
     "name": "stdout",
     "output_type": "stream",
     "text": [
      "[2, 4, 6, 8, 10]\n"
     ]
    }
   ],
   "source": [
    "# Define a function that doubles a number\n",
    "def double(n):\n",
    "    return n * 2\n",
    "\n",
    "# Create a list of numbers\n",
    "numbers = [1, 2, 3, 4, 5]\n",
    "\n",
    "# Use map to apply the double function to each item in the numbers list\n",
    "doubled_numbers = map(double, numbers)\n",
    "\n",
    "# Convert the map object to a list and print it\n",
    "print(list(doubled_numbers))\n"
   ]
  },
  {
   "cell_type": "code",
   "execution_count": 9,
   "metadata": {},
   "outputs": [
    {
     "data": {
      "text/plain": [
       "10000"
      ]
     },
     "execution_count": 9,
     "metadata": {},
     "output_type": "execute_result"
    }
   ],
   "source": [
    "def myfunc(a,b):\n",
    "    return sum((a,b))**2\n",
    "\n",
    "myfunc(40,60)"
   ]
  },
  {
   "cell_type": "code",
   "execution_count": 15,
   "metadata": {},
   "outputs": [
    {
     "data": {
      "text/plain": [
       "240"
      ]
     },
     "execution_count": 15,
     "metadata": {},
     "output_type": "execute_result"
    }
   ],
   "source": [
    "def myfunc(*args):\n",
    "    return sum(args)*2\n",
    "\n",
    "myfunc(40,60,20)\n"
   ]
  },
  {
   "cell_type": "code",
   "execution_count": 29,
   "metadata": {},
   "outputs": [
    {
     "name": "stdout",
     "output_type": "stream",
     "text": [
      "Positional Argument 1: 1\n",
      "Positional Argument 2: 2\n",
      "Keyword Argument 1: 3\n",
      "Keyword Argument 2: 4\n",
      "Arbitrary Positional Arguments: (5, 6)\n",
      "Arbitrary Keyword Arguments: {'a': 'hi', 'name': 'Alice', 'age': 10}\n"
     ]
    }
   ],
   "source": [
    "\n",
    "def show_arguments(pos1, pos2, kw1=4, kw2='default', *args, **kwargs):\n",
    "    print(f\"Positional Argument 1: {pos1}\")\n",
    "    print(f\"Positional Argument 2: {pos2}\")\n",
    "    print(f\"Keyword Argument 1: {kw1}\")\n",
    "    print(f\"Keyword Argument 2: {kw2}\")\n",
    "    print(f\"Arbitrary Positional Arguments: {args}\")\n",
    "    print(f\"Arbitrary Keyword Arguments: {kwargs}\")\n",
    "\n",
    "# Calling the function with different types of arguments\n",
    "show_arguments(1, 2,3, 4, 5, 6, a='hi', name=\"Alice\", age=10)\n",
    "\n"
   ]
  },
  {
   "cell_type": "code",
   "execution_count": 1,
   "metadata": {},
   "outputs": [
    {
     "data": {
      "text/plain": [
       "[32.0, 72.5, 104.0, 212.0]"
      ]
     },
     "execution_count": 1,
     "metadata": {},
     "output_type": "execute_result"
    }
   ],
   "source": [
    "def fahrenheit(celsius):\n",
    "    return (9/5)*celsius + 32\n",
    "    \n",
    "temps = [0, 22.5, 40, 100]\n",
    "\n",
    "F_temps = map(fahrenheit, temps)\n",
    "\n",
    "#Show\n",
    "list(F_temps)"
   ]
  },
  {
   "cell_type": "code",
   "execution_count": 3,
   "metadata": {},
   "outputs": [
    {
     "data": {
      "text/plain": [
       "47"
      ]
     },
     "execution_count": 3,
     "metadata": {},
     "output_type": "execute_result"
    }
   ],
   "source": [
    "from functools import reduce\n",
    "lst =[47,11,42,13]\n",
    "max_find = lambda a,b: a if (a > b) else b\n",
    "\n",
    "reduce(max_find,lst)"
   ]
  },
  {
   "cell_type": "code",
   "execution_count": 2,
   "metadata": {},
   "outputs": [
    {
     "data": {
      "text/plain": [
       "[(1, 4), (2, 5)]"
      ]
     },
     "execution_count": 2,
     "metadata": {},
     "output_type": "execute_result"
    }
   ],
   "source": [
    "d1 = {'a':1,'b':2}\n",
    "d2 = {'c':4,'d':5}\n",
    "\n",
    "list(zip(d1,d2))\n",
    "\n",
    "list(zip(d1.values(),d2.values()))"
   ]
  },
  {
   "cell_type": "code",
   "execution_count": 10,
   "metadata": {},
   "outputs": [
    {
     "data": {
      "text/plain": [
       "{'a': 4, 'b': 5}"
      ]
     },
     "execution_count": 10,
     "metadata": {},
     "output_type": "execute_result"
    }
   ],
   "source": [
    "d1 = {'a':1,'b':2}\n",
    "d2 = {'c':4,'d':5}\n",
    "\n",
    "def switcharoo(d1,d2):\n",
    "    dout = {}\n",
    "\n",
    "    for d1key,d2val in zip(d1,d2.values()):\n",
    "        dout[d1key] = d2val\n",
    "\n",
    "    return dout\n",
    "\n",
    "switcharoo(d1,d2)    \n",
    "    \n"
   ]
  },
  {
   "cell_type": "code",
   "execution_count": 34,
   "metadata": {},
   "outputs": [
    {
     "name": "stdout",
     "output_type": "stream",
     "text": [
      "{'a': 4, 'b': 5}\n"
     ]
    }
   ],
   "source": [
    "d1 = {'a':1,'b':2}\n",
    "d2 = {'c':4,'d':5}\n",
    "\n",
    "\n",
    "def switcharoo(**kwargs):\n",
    "    dout = {}\n",
    "    \n",
    "    for d1key,d2val in zip(d1,d2.values()):\n",
    "        dout[d1key] = d2val\n",
    "    \n",
    "    return dout\n",
    "din = (switcharoo(j=d1,n=d2))\n",
    "print(din)"
   ]
  },
  {
   "cell_type": "code",
   "execution_count": 38,
   "metadata": {},
   "outputs": [
    {
     "name": "stdout",
     "output_type": "stream",
     "text": [
      "None\n"
     ]
    }
   ],
   "source": [
    "nums = [2, 7, 11, 15]\n",
    "target = 11\n",
    "\n",
    "class Solution:\n",
    "    def twoSum(self, nums: list[int], target: int) -> list[int]:\n",
    "        tmp = [(num, idx) for idx, num in enumerate(nums)]\n",
    "        tmp.sort(key=lambda x: x[0])\n",
    "        \n",
    "        left, right = 0, len(tmp) - 1\n",
    "        \n",
    "        while left < right:\n",
    "            cur = tmp[right][0] + tmp[left][0]\n",
    "            if cur == target:\n",
    "                return [tmp[right][1], tmp[left][1]]\n",
    "            elif cur > target:\n",
    "                right -= 1\n",
    "            else:\n",
    "                left += 1\n",
    "\n",
    "# Example usage\n",
    "solution = Solution()\n",
    "result = solution.twoSum(nums, target)\n",
    "print(result)\n"
   ]
  },
  {
   "cell_type": "code",
   "execution_count": 45,
   "metadata": {},
   "outputs": [
    {
     "name": "stdout",
     "output_type": "stream",
     "text": [
      "[5, 4, 3, 2, 1]\n"
     ]
    }
   ],
   "source": [
    "def rev_num(nums):\n",
    "    replace_num = list(set(nums))\n",
    "    replace_num.sort(reverse=True)\n",
    "\n",
    "    return replace_num\n",
    "\n",
    "nums = [1,2,3,4,5]\n",
    "result = rev_num(nums)\n",
    "print(result)\n"
   ]
  },
  {
   "cell_type": "code",
   "execution_count": 46,
   "metadata": {},
   "outputs": [
    {
     "name": "stdout",
     "output_type": "stream",
     "text": [
      "12\n"
     ]
    }
   ],
   "source": [
    "newList = [12, 35, 9, 56, 24]\n",
    "temp = newList[0]\n",
    "print(temp)"
   ]
  },
  {
   "cell_type": "code",
   "execution_count": 48,
   "metadata": {},
   "outputs": [
    {
     "name": "stdout",
     "output_type": "stream",
     "text": [
      "[78, 24, 36, 55, 42]\n"
     ]
    }
   ],
   "source": [
    "def swaplist(newlist):\n",
    "    size = len(newlist)\n",
    "    temp = newlist[0]\n",
    "    newlist[0] = newlist[size-1]\n",
    "    newlist[size-1] = temp\n",
    "    return newlist\n",
    "newlist = [42,24,36,55,78]\n",
    "result = swaplist(newlist) \n",
    "print(newlist)   "
   ]
  },
  {
   "cell_type": "code",
   "execution_count": 80,
   "metadata": {},
   "outputs": [
    {
     "name": "stdout",
     "output_type": "stream",
     "text": [
      "length of first word: 5\n",
      "length of last word: 5\n"
     ]
    }
   ],
   "source": [
    "class Solution:\n",
    "    def lengthOfLastWord(self, s):\n",
    "\n",
    "        arr = s.split(\" \")\n",
    "        \n",
    "        ans = arr[-1]\n",
    "        return len(ans)\n",
    "    def lengthOfFirstWord(self, f):\n",
    "\n",
    "        arr = f.split(\" \")\n",
    "        \n",
    "        ans1 = arr[0]\n",
    "        return len(ans1)\n",
    "        \n",
    "# Example usage\n",
    "a= input(\"Enter the text:\")\n",
    "solution = Solution()\n",
    "result = solution.lengthOfLastWord(a)\n",
    "result1 = solution.lengthOfFirstWord(a)\n",
    "print(\"length of first word:\",result1)\n",
    "print(\"length of last word:\",result)\n"
   ]
  },
  {
   "cell_type": "code",
   "execution_count": 6,
   "metadata": {},
   "outputs": [
    {
     "name": "stdout",
     "output_type": "stream",
     "text": [
      "Red Ford Mustang\n",
      "Blue Toyota Prius\n",
      "Green Volkswagen Golf\n"
     ]
    }
   ],
   "source": [
    "class Car:\n",
    "    def info(self,name,Brand,color):\n",
    "        self.name = name\n",
    "        self.Brand = Brand\n",
    "        self.color = color\n",
    "\n",
    "car_1 = Car()\n",
    "car_1.info(\"Ford\",\"Mustang\",\"Red\")\n",
    "print (car_1.color,car_1.name,car_1.Brand)\n",
    "\n",
    "car_2 = Car()\n",
    "car_2.info(\"Toyota\",\"Prius\",\"Blue\")\n",
    "print (car_2.color,car_2.name,car_2.Brand)\n",
    "\n",
    "car_3 = Car()\n",
    "car_3.info(\"Volkswagen\",\"Golf\",\"Green\")\n",
    "print (car_3.color,car_3.name,car_3.Brand)\n"
   ]
  }
 ],
 "metadata": {
  "kernelspec": {
   "display_name": "Python 3",
   "language": "python",
   "name": "python3"
  },
  "language_info": {
   "codemirror_mode": {
    "name": "ipython",
    "version": 3
   },
   "file_extension": ".py",
   "mimetype": "text/x-python",
   "name": "python",
   "nbconvert_exporter": "python",
   "pygments_lexer": "ipython3",
   "version": "3.12.4"
  }
 },
 "nbformat": 4,
 "nbformat_minor": 2
}

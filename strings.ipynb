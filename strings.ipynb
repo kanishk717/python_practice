{
 "cells": [
  {
   "cell_type": "code",
   "execution_count": 5,
   "metadata": {},
   "outputs": [
    {
     "name": "stdout",
     "output_type": "stream",
     "text": [
      "5\n",
      "12\n",
      "Hello World 1\n",
      "Hello World 2\n",
      "Use to print a new line\n",
      "Use\tto print a tab space line\n",
      "See what I mean?\n"
     ]
    }
   ],
   "source": [
    "a = 5\n",
    "print(a)\n",
    "b = a+7\n",
    "print(b)\n",
    "print('Hello World 1')\n",
    "print(\"Hello World 2\")\n",
    "print('Use to print a new line')\n",
    "print('Use\\tto print a tab space line')\n",
    "print('See what I mean?')"
   ]
  },
  {
   "cell_type": "code",
   "execution_count": 8,
   "metadata": {},
   "outputs": [
    {
     "name": "stdout",
     "output_type": "stream",
     "text": [
      "12\n"
     ]
    }
   ],
   "source": [
    "a = \"Hello  World\"  \n",
    "print(len(a)) \n"
   ]
  },
  {
   "cell_type": "code",
   "execution_count": 22,
   "metadata": {},
   "outputs": [
    {
     "data": {
      "text/plain": [
       "'dlro'"
      ]
     },
     "execution_count": 22,
     "metadata": {},
     "output_type": "execute_result"
    }
   ],
   "source": [
    "s = \"Hello World\"\n",
    "s[-1:-5:-1]  #obj[start:stop(len(obj)-1):step]"
   ]
  },
  {
   "cell_type": "code",
   "execution_count": 25,
   "metadata": {},
   "outputs": [
    {
     "name": "stdout",
     "output_type": "stream",
     "text": [
      "addition of two numbers: 9 \n",
      "code executed: True\n"
     ]
    }
   ],
   "source": [
    "a = 4\n",
    "b = 5\n",
    "c = a+b \n",
    "print(\"addition of two numbers: \"+str(c)+\" \"+\"\\ncode executed: \"+str(True))"
   ]
  },
  {
   "cell_type": "code",
   "execution_count": 32,
   "metadata": {},
   "outputs": [
    {
     "name": "stdout",
     "output_type": "stream",
     "text": [
      "I'm going to inject 9 here.\n"
     ]
    }
   ],
   "source": [
    "print(\"I'm going to inject %s here.\" % (9))"
   ]
  },
  {
   "cell_type": "code",
   "execution_count": 33,
   "metadata": {},
   "outputs": [
    {
     "name": "stdout",
     "output_type": "stream",
     "text": [
      "I'm going to inject 8.000000 text here, and some text here.\n"
     ]
    }
   ],
   "source": [
    "print(\"I'm going to inject %f text here, and %s text here.\" %(8,'some')) "
   ]
  },
  {
   "cell_type": "code",
   "execution_count": 20,
   "metadata": {},
   "outputs": [
    {
     "name": "stdout",
     "output_type": "stream",
     "text": [
      "Normalweight\n"
     ]
    }
   ],
   "source": [
    "kbk = 75\n",
    "\n",
    "if kbk > 80:\n",
    "    print(\"Overweight\")\n",
    "elif kbk <=80 and kbk >70:\n",
    "    print(\"Normalweight\")\n",
    "else:\n",
    "    print(\"Underweight\")        "
   ]
  },
  {
   "cell_type": "code",
   "execution_count": 9,
   "metadata": {},
   "outputs": [
    {
     "name": "stdout",
     "output_type": "stream",
     "text": [
      "Not divisible by 4\n"
     ]
    }
   ],
   "source": [
    "a = int(input(\"Enter Numbers\"))\n",
    "\n",
    "if a%4==0:\n",
    "    print(\"divisible by 4\")\n",
    "    \n",
    "else:\n",
    "    print(\"Not divisible by 4\")"
   ]
  },
  {
   "cell_type": "code",
   "execution_count": 36,
   "metadata": {},
   "outputs": [
    {
     "name": "stdout",
     "output_type": "stream",
     "text": [
      "0\n",
      "1\n"
     ]
    }
   ],
   "source": [
    "for i in range(5):\n",
    "    if i == 2:\n",
    "        break\n",
    "    \n",
    "    print(i)\n",
    "\n"
   ]
  },
  {
   "cell_type": "code",
   "execution_count": 58,
   "metadata": {},
   "outputs": [
    {
     "name": "stdout",
     "output_type": "stream",
     "text": [
      "Woo! fuck\n"
     ]
    }
   ],
   "source": [
    "class Dog:\n",
    "    def bark(self):\n",
    "        print(\"Woo!\",self)\n",
    "    bark(\"fuck\")\n",
    "\n",
    "dog_name = Dog()\n"
   ]
  },
  {
   "cell_type": "code",
   "execution_count": 47,
   "metadata": {},
   "outputs": [
    {
     "name": "stdout",
     "output_type": "stream",
     "text": [
      "0\n",
      "1\n",
      "2\n",
      "4\n"
     ]
    }
   ],
   "source": [
    "for i in range(5):\n",
    "    if i == 3:\n",
    "        continue\n",
    "    print(i)\n"
   ]
  },
  {
   "cell_type": "code",
   "execution_count": 25,
   "metadata": {},
   "outputs": [
    {
     "name": "stdout",
     "output_type": "stream",
     "text": [
      "0\n",
      "1\n",
      "3\n",
      "0\n"
     ]
    }
   ],
   "source": [
    "arr = [3,0,1]\n",
    "n = len(arr)\n",
    "  \n",
    "x1 = 0  # We start with a special number called zero\n",
    "x2 = 0  # We also start with another special number called zero\n",
    "\n",
    "    # We will do something with numbers from 0 up to the length of the array\n",
    "    # If there are 3 numbers in the array, this loop will go through 0, 1, 2, and 3\n",
    "for i in range(n+1):\n",
    "        x1 ^= i\n",
    "        print(x1)  # We use a magic trick called XOR to mix the special number with these numbers\n",
    "        "
   ]
  },
  {
   "cell_type": "code",
   "execution_count": 48,
   "metadata": {},
   "outputs": [
    {
     "name": "stdout",
     "output_type": "stream",
     "text": [
      "Hello, Alice\n"
     ]
    }
   ],
   "source": [
    "def greet(name):\n",
    "    print(\"Hello,\", name)\n",
    "\n",
    "greet(\"Alice\")\n"
   ]
  },
  {
   "cell_type": "code",
   "execution_count": 63,
   "metadata": {},
   "outputs": [],
   "source": [
    "x = 5\n",
    "del x\n"
   ]
  },
  {
   "cell_type": "code",
   "execution_count": 66,
   "metadata": {},
   "outputs": [
    {
     "name": "stdout",
     "output_type": "stream",
     "text": [
      "You cannot divide by zero!\n"
     ]
    }
   ],
   "source": [
    "try:\n",
    "    result = 10 / 0\n",
    "except ZeroDivisionError:\n",
    "    print(\"You cannot divide by zero!\")\n"
   ]
  },
  {
   "cell_type": "code",
   "execution_count": 71,
   "metadata": {},
   "outputs": [
    {
     "name": "stdout",
     "output_type": "stream",
     "text": [
      "10\n",
      "The 'try except' is finished.\n"
     ]
    }
   ],
   "source": [
    "\n",
    "\n",
    "try:\n",
    "    print(x)\n",
    "except:\n",
    "    print(\"Something went wrong.\")\n",
    "finally:\n",
    "    print(\"The 'try except' is finished.\")\n"
   ]
  },
  {
   "cell_type": "code",
   "execution_count": 117,
   "metadata": {},
   "outputs": [
    {
     "name": "stdout",
     "output_type": "stream",
     "text": [
      "1296\n"
     ]
    }
   ],
   "source": [
    "from random import randint\n",
    "print(randint(1000, 9999))\n"
   ]
  },
  {
   "cell_type": "code",
   "execution_count": 121,
   "metadata": {},
   "outputs": [
    {
     "name": "stdout",
     "output_type": "stream",
     "text": [
      "10\n"
     ]
    }
   ],
   "source": [
    "x = 5\n",
    "def my_function():\n",
    "    global x\n",
    "    x = 10\n",
    "my_function()\n",
    "\n",
    "print(x)\n"
   ]
  },
  {
   "cell_type": "code",
   "execution_count": 124,
   "metadata": {},
   "outputs": [
    {
     "name": "stdout",
     "output_type": "stream",
     "text": [
      "5.0\n"
     ]
    }
   ],
   "source": [
    "import math as f\n",
    "print(f.sqrt(25))\n"
   ]
  },
  {
   "cell_type": "code",
   "execution_count": 181,
   "metadata": {},
   "outputs": [
    {
     "name": "stdout",
     "output_type": "stream",
     "text": [
      "not raining\n"
     ]
    }
   ],
   "source": [
    "is_raining = None\n",
    "if  is_raining:\n",
    "    print(\"It is raining\")\n",
    "elif not  is_raining:\n",
    "    print(\"not raining\")\n",
    "else:\n",
    "    print(\"sunny\")\n"
   ]
  },
  {
   "cell_type": "code",
   "execution_count": 134,
   "metadata": {},
   "outputs": [
    {
     "name": "stdout",
     "output_type": "stream",
     "text": [
      "5\n"
     ]
    }
   ],
   "source": [
    "value = 5\n",
    "\n",
    "if value is None:\n",
    "    print(\"No value\")\n",
    "else:\n",
    "    print(value)"
   ]
  },
  {
   "cell_type": "code",
   "execution_count": 139,
   "metadata": {},
   "outputs": [],
   "source": [
    "assert 2 + 2 == 4\n"
   ]
  },
  {
   "cell_type": "code",
   "execution_count": 189,
   "metadata": {},
   "outputs": [
    {
     "ename": "RuntimeError",
     "evalue": "asyncio.run() cannot be called from a running event loop",
     "output_type": "error",
     "traceback": [
      "\u001b[1;31m---------------------------------------------------------------------------\u001b[0m",
      "\u001b[1;31mRuntimeError\u001b[0m                              Traceback (most recent call last)",
      "Cell \u001b[1;32mIn[189], line 7\u001b[0m\n\u001b[0;32m      4\u001b[0m     \u001b[38;5;28mprint\u001b[39m(\u001b[38;5;124m\"\u001b[39m\u001b[38;5;124mHello\u001b[39m\u001b[38;5;124m\"\u001b[39m)\n\u001b[0;32m      5\u001b[0m     \u001b[38;5;28;01mpass\u001b[39;00m\n\u001b[1;32m----> 7\u001b[0m \u001b[43masyncio\u001b[49m\u001b[38;5;241;43m.\u001b[39;49m\u001b[43mrun\u001b[49m\u001b[43m(\u001b[49m\u001b[43msay_hello\u001b[49m\u001b[43m(\u001b[49m\u001b[43m)\u001b[49m\u001b[43m)\u001b[49m\n",
      "File \u001b[1;32mc:\\Users\\kanishk bk\\AppData\\Local\\Programs\\Python\\Python312\\Lib\\asyncio\\runners.py:190\u001b[0m, in \u001b[0;36mrun\u001b[1;34m(main, debug, loop_factory)\u001b[0m\n\u001b[0;32m    161\u001b[0m \u001b[38;5;250m\u001b[39m\u001b[38;5;124;03m\"\"\"Execute the coroutine and return the result.\u001b[39;00m\n\u001b[0;32m    162\u001b[0m \n\u001b[0;32m    163\u001b[0m \u001b[38;5;124;03mThis function runs the passed coroutine, taking care of\u001b[39;00m\n\u001b[1;32m   (...)\u001b[0m\n\u001b[0;32m    186\u001b[0m \u001b[38;5;124;03m    asyncio.run(main())\u001b[39;00m\n\u001b[0;32m    187\u001b[0m \u001b[38;5;124;03m\"\"\"\u001b[39;00m\n\u001b[0;32m    188\u001b[0m \u001b[38;5;28;01mif\u001b[39;00m events\u001b[38;5;241m.\u001b[39m_get_running_loop() \u001b[38;5;129;01mis\u001b[39;00m \u001b[38;5;129;01mnot\u001b[39;00m \u001b[38;5;28;01mNone\u001b[39;00m:\n\u001b[0;32m    189\u001b[0m     \u001b[38;5;66;03m# fail fast with short traceback\u001b[39;00m\n\u001b[1;32m--> 190\u001b[0m     \u001b[38;5;28;01mraise\u001b[39;00m \u001b[38;5;167;01mRuntimeError\u001b[39;00m(\n\u001b[0;32m    191\u001b[0m         \u001b[38;5;124m\"\u001b[39m\u001b[38;5;124masyncio.run() cannot be called from a running event loop\u001b[39m\u001b[38;5;124m\"\u001b[39m)\n\u001b[0;32m    193\u001b[0m \u001b[38;5;28;01mwith\u001b[39;00m Runner(debug\u001b[38;5;241m=\u001b[39mdebug, loop_factory\u001b[38;5;241m=\u001b[39mloop_factory) \u001b[38;5;28;01mas\u001b[39;00m runner:\n\u001b[0;32m    194\u001b[0m     \u001b[38;5;28;01mreturn\u001b[39;00m runner\u001b[38;5;241m.\u001b[39mrun(main)\n",
      "\u001b[1;31mRuntimeError\u001b[0m: asyncio.run() cannot be called from a running event loop"
     ]
    }
   ],
   "source": [
    "import asyncio\n",
    "\n",
    "async def say_hello():\n",
    "    print(\"Hello\")\n",
    "    pass\n",
    "\n",
    "asyncio.run(say_hello())\n"
   ]
  },
  {
   "cell_type": "code",
   "execution_count": 150,
   "metadata": {},
   "outputs": [
    {
     "name": "stdout",
     "output_type": "stream",
     "text": [
      "True\n"
     ]
    }
   ],
   "source": [
    "a = [1, 2, 3]\n",
    "b = a\n",
    "print(b is a)\n"
   ]
  },
  {
   "cell_type": "code",
   "execution_count": 154,
   "metadata": {},
   "outputs": [
    {
     "name": "stdout",
     "output_type": "stream",
     "text": [
      "5\n"
     ]
    }
   ],
   "source": [
    "add = lambda x,y:x+y\n",
    "print(add(2, 3))\n"
   ]
  },
  {
   "cell_type": "code",
   "execution_count": 176,
   "metadata": {},
   "outputs": [
    {
     "name": "stdout",
     "output_type": "stream",
     "text": [
      "inner\n",
      "inner\n"
     ]
    }
   ],
   "source": [
    "def outer():\n",
    "    x = \"outer\"\n",
    "\n",
    "    def inner():\n",
    "         nonlocal x\n",
    "         x = \"inner\"\n",
    "         print(x)\n",
    "    \n",
    "    inner()\n",
    "    print(x) \n",
    "\n",
    "outer()\n",
    "\n"
   ]
  },
  {
   "cell_type": "code",
   "execution_count": 187,
   "metadata": {},
   "outputs": [
    {
     "name": "stdout",
     "output_type": "stream",
     "text": [
      "At least one condition is true\n"
     ]
    }
   ],
   "source": [
    "if 5 < 3 or 5 > 3:\n",
    "    print(\"At least one condition is true\")\n",
    "    pass\n"
   ]
  },
  {
   "cell_type": "code",
   "execution_count": 191,
   "metadata": {},
   "outputs": [],
   "source": [
    "def do_nothing():\n",
    "    pass\n",
    "\n"
   ]
  },
  {
   "cell_type": "code",
   "execution_count": 202,
   "metadata": {},
   "outputs": [
    {
     "name": "stdout",
     "output_type": "stream",
     "text": [
      "5\n"
     ]
    }
   ],
   "source": [
    "def add(x, y):\n",
    "    return x + y\n",
    "\n",
    "print(add(2, 3))\n",
    "\n",
    "\n"
   ]
  },
  {
   "cell_type": "code",
   "execution_count": 203,
   "metadata": {},
   "outputs": [
    {
     "name": "stdout",
     "output_type": "stream",
     "text": [
      "You can't divide by zero!\n"
     ]
    }
   ],
   "source": [
    "try:\n",
    "    print(10 / 0)\n",
    "except ZeroDivisionError:\n",
    "    print(\"You can't divide by zero!\")\n"
   ]
  },
  {
   "cell_type": "code",
   "execution_count": 211,
   "metadata": {},
   "outputs": [
    {
     "name": "stdout",
     "output_type": "stream",
     "text": [
      "0\n",
      "1\n",
      "2\n"
     ]
    }
   ],
   "source": [
    "i = 0\n",
    "while i < 3:\n",
    "    print(i)\n",
    "    i += 1\n"
   ]
  },
  {
   "cell_type": "code",
   "execution_count": 214,
   "metadata": {},
   "outputs": [],
   "source": [
    "with open(\"example.txt\", \"w\") as file:\n",
    "    file.write(\"Hello, world!\")\n"
   ]
  },
  {
   "cell_type": "code",
   "execution_count": 248,
   "metadata": {},
   "outputs": [
    {
     "name": "stdout",
     "output_type": "stream",
     "text": [
      "1\n",
      "2\n",
      "3\n",
      "4\n",
      "5\n"
     ]
    }
   ],
   "source": [
    "def count_up_to(max):\n",
    "    count = 1\n",
    "    while count <=max:\n",
    "        yield count\n",
    "        count += 1\n",
    "counter = count_up_to(5)\n",
    "for number in counter:\n",
    "    print(number)\n",
    "\n"
   ]
  },
  {
   "cell_type": "code",
   "execution_count": 239,
   "metadata": {},
   "outputs": [
    {
     "name": "stdout",
     "output_type": "stream",
     "text": [
      "3 is in the list\n"
     ]
    }
   ],
   "source": [
    "if 2 in [1, 2, 3]:\n",
    "    print(\"3 is in the list\")\n"
   ]
  },
  {
   "cell_type": "code",
   "execution_count": 256,
   "metadata": {},
   "outputs": [
    {
     "name": "stdout",
     "output_type": "stream",
     "text": [
      "5\n"
     ]
    }
   ],
   "source": [
    "x = 5\n",
    "\n",
    "def change_global():\n",
    "    global x\n",
    "    x = 10\n",
    "\n",
    "print(x)\n"
   ]
  },
  {
   "cell_type": "code",
   "execution_count": 5,
   "metadata": {},
   "outputs": [
    {
     "data": {
      "text/plain": [
       "__main__.Solution"
      ]
     },
     "execution_count": 5,
     "metadata": {},
     "output_type": "execute_result"
    }
   ],
   "source": [
    "class Solution:\n",
    "    def maxProfit(self,prices:list[int]) ->int:\n",
    "        min_price = float('inf')\n",
    "        max_profit = 0\n",
    "\n",
    "        for price in prices:\n",
    "            if price < min_prices:\n",
    "                min_price = price\n",
    "\n",
    "            profit = price - min_price\n",
    "\n",
    "            if profit > max_profit:\n",
    "                max_profit = profit\n",
    "                \n",
    "                return max_profit\n",
    "            \n"
   ]
  },
  {
   "cell_type": "code",
   "execution_count": 10,
   "metadata": {},
   "outputs": [],
   "source": [
    "class ToyCar:\n",
    "    def __init__(self, value):\n",
    "        self.color = value\n",
    "\n",
    "    def honk(self):\n",
    "        print(\"Beep beep!\")\n"
   ]
  },
  {
   "cell_type": "code",
   "execution_count": 11,
   "metadata": {},
   "outputs": [
    {
     "name": "stdout",
     "output_type": "stream",
     "text": [
      "Beep beep!\n",
      "Beep beep!\n",
      "Red car color: red\n",
      "Blue car color: blue\n"
     ]
    }
   ],
   "source": [
    "# Create a red toy car\n",
    "red_car = ToyCar(\"red\")\n",
    "# Create a blue toy car\n",
    "blue_car = ToyCar(\"blue\")\n",
    "\n",
    "# Make the red car honk\n",
    "red_car.honk()\n",
    "# Make the blue car honk\n",
    "blue_car.honk()\n",
    "\n",
    "# Print the colors of the cars\n",
    "print(\"Red car color:\", red_car.color)\n",
    "print(\"Blue car color:\", blue_car.color)\n"
   ]
  },
  {
   "cell_type": "code",
   "execution_count": 26,
   "metadata": {},
   "outputs": [
    {
     "name": "stdout",
     "output_type": "stream",
     "text": [
      "Price: 50000\n",
      "Processor: i5\n",
      "Ram: 8gb\n"
     ]
    }
   ],
   "source": [
    "class Laptop:\n",
    "    def hp(self):\n",
    "        price = 50000\n",
    "        proc = \"i5\"\n",
    "        ram = \"8gb\"\n",
    "        print(\"Price:\",price)\n",
    "        print(\"Processor:\",proc)\n",
    "        print(\"Ram:\",ram)\n",
    "\n",
    "    def dell(self):\n",
    "        price = 40000\n",
    "        proc = \"i7\"\n",
    "        ram = \"6gb\"\n",
    "        print(\"Price:\",price)\n",
    "        print(\"Processor:\",proc)\n",
    "        print(\"Ram:\",ram)\n",
    "\n",
    "hp = Laptop()\n",
    "dell = Laptop()\n",
    "a = input(\"Enter the Brand: \")\n",
    "if a == \"hp\":\n",
    "    hp.hp()\n",
    "elif a == \"dell\":\n",
    "    dell.dell()\n",
    "else:\n",
    "    print(\"null\")\n"
   ]
  },
  {
   "cell_type": "code",
   "execution_count": 39,
   "metadata": {},
   "outputs": [
    {
     "name": "stdout",
     "output_type": "stream",
     "text": [
      "Missing number is: 7\n"
     ]
    }
   ],
   "source": [
    "def find_missing_number(arr):\n",
    "    n = len(arr)\n",
    "    total = (n+1)* (n+2)//2\n",
    "    sum_of_arr = sum(arr)\n",
    "    missing_number = total - sum_of_arr\n",
    "    return missing_number\n",
    "\n",
    "# Example usage\n",
    "arr = [1,2,5]\n",
    "print(\"Missing number is:\", find_missing_number(arr))\n"
   ]
  },
  {
   "cell_type": "code",
   "execution_count": 11,
   "metadata": {},
   "outputs": [
    {
     "name": "stdout",
     "output_type": "stream",
     "text": [
      "Missing number is: 2\n"
     ]
    }
   ],
   "source": [
    "def find_missing_number(arr):\n",
    "    n = len(arr) # n is 3\n",
    "    x1 = 0  # XOR of all numbers from 0 to n\n",
    "    x2 = 0  # XOR of all elements in the array\n",
    "\n",
    "    # XOR all numbers from 0 to n (0 to 3 in this case)\n",
    "    for i in range(n + 1):\n",
    "        x1 ^= i\n",
    "\n",
    "    # XOR all elements in the array\n",
    "    for num in arr:\n",
    "        x2 ^= num\n",
    "\n",
    "    missing_number = x1 ^ x2\n",
    "    return missing_number\n",
    "\n",
    "# Example usage\n",
    "arr = [1,2,3,5,6]\n",
    "print(\"Missing number is:\", find_missing_number(arr))\n"
   ]
  },
  {
   "cell_type": "code",
   "execution_count": 36,
   "metadata": {},
   "outputs": [
    {
     "name": "stdout",
     "output_type": "stream",
     "text": [
      "Missing number is: 2\n"
     ]
    }
   ],
   "source": [
    "def find_missing_number(arr):\n",
    "    n = len(arr) + 1  # n is the expected length of the array if no number was missing\n",
    "    x1 = 0  # XOR of all numbers from 1 to n\n",
    "    x2 = 0  # XOR of all elements in the array\n",
    "\n",
    "    # XOR all numbers from 1 to n (since we expect numbers from 1 to 4 in this case)\n",
    "    for i in range(1, n + 1):\n",
    "        x1 ^= i\n",
    "\n",
    "    # XOR all elements in the array\n",
    "    for num in arr:\n",
    "        x2 ^= num\n",
    "\n",
    "    missing_number = x1 ^ x2\n",
    "    return missing_number\n",
    "\n",
    "# Example usage\n",
    "arr = [1, 2, 5]\n",
    "print(\"Missing number is:\", find_missing_number(arr))\n"
   ]
  },
  {
   "cell_type": "code",
   "execution_count": 41,
   "metadata": {},
   "outputs": [
    {
     "name": "stdout",
     "output_type": "stream",
     "text": [
      "Missing numbers are: [3, 4, 5]\n"
     ]
    }
   ],
   "source": [
    "def find_missing_numbers(arr):\n",
    "    n = max(arr)  # Find the maximum number in the array\n",
    "    full_set = set(range(1, n + 1))  # Create a set of all numbers from 1 to n\n",
    "    arr_set = set(arr)  # Convert the array to a set for fast lookup\n",
    "    missing_numbers = list(full_set - arr_set)  # Find the difference to get missing numbers\n",
    "    return missing_numbers\n",
    "\n",
    "# Example usage\n",
    "arr = [1, 2, 6]\n",
    "missing_numbers = find_missing_numbers(arr)\n",
    "print(\"Missing numbers are:\", missing_numbers)\n"
   ]
  },
  {
   "cell_type": "code",
   "execution_count": 70,
   "metadata": {},
   "outputs": [
    {
     "name": "stdout",
     "output_type": "stream",
     "text": [
      "[3, 4, 5]\n"
     ]
    }
   ],
   "source": [
    "arr = [1,2,6]\n",
    "n = max(arr)\n",
    "full_set = set(range(1,n +1 ))\n",
    "arr_set = set(arr)\n",
    "missing = list(full_set-arr_set)\n",
    "print(missing)\n"
   ]
  },
  {
   "cell_type": "code",
   "execution_count": 101,
   "metadata": {},
   "outputs": [
    {
     "name": "stdout",
     "output_type": "stream",
     "text": [
      "6\n"
     ]
    }
   ],
   "source": [
    "\n",
    "class Solution:\n",
    "   \n",
    "   def even_num(self):\n",
    "      num = sum(number for number in arr if number%2 ==0)\n",
    "      print(num)\n",
    "\n",
    "arr =[1,2,3,4,5] \n",
    "a = Solution()\n",
    "a.even_num()\n",
    "\n",
    "\n",
    "   "
   ]
  },
  {
   "cell_type": "code",
   "execution_count": 117,
   "metadata": {},
   "outputs": [
    {
     "name": "stdout",
     "output_type": "stream",
     "text": [
      "321\n"
     ]
    }
   ],
   "source": [
    "a = 123\n",
    "reversed_a = str(a)[::-1]\n",
    "print(reversed_a)\n"
   ]
  },
  {
   "cell_type": "code",
   "execution_count": 136,
   "metadata": {},
   "outputs": [
    {
     "name": "stdout",
     "output_type": "stream",
     "text": [
      "Maximum subarray sum is: 6\n"
     ]
    }
   ],
   "source": [
    "def max_subarray_sum(nums):\n",
    "    max_current =  nums[0]\n",
    "    max_global = nums[0]\n",
    "\n",
    "    for num in nums[1::1]:\n",
    "        max_current = max(num, max_current + num)\n",
    "        if max_current > max_global:\n",
    "            max_global = max_current\n",
    "\n",
    "    return max_global\n",
    "\n",
    "# Example usage\n",
    "nums = [-2, 1, -3, 4, -1, 2,1,-5, 4]\n",
    "print(\"Maximum subarray sum is:\", max_subarray_sum(nums))\n"
   ]
  },
  {
   "cell_type": "code",
   "execution_count": 121,
   "metadata": {},
   "outputs": [
    {
     "name": "stdout",
     "output_type": "stream",
     "text": [
      "1\n"
     ]
    }
   ],
   "source": [
    "a = [1,2,3]\n",
    "print(a[0])"
   ]
  }
 ],
 "metadata": {
  "kernelspec": {
   "display_name": "Python 3",
   "language": "python",
   "name": "python3"
  },
  "language_info": {
   "codemirror_mode": {
    "name": "ipython",
    "version": 3
   },
   "file_extension": ".py",
   "mimetype": "text/x-python",
   "name": "python",
   "nbconvert_exporter": "python",
   "pygments_lexer": "ipython3",
   "version": "3.12.4"
  }
 },
 "nbformat": 4,
 "nbformat_minor": 2
}
